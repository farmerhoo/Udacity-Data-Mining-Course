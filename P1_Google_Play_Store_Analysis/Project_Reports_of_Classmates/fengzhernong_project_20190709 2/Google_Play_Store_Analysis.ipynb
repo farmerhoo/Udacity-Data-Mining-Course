{
 "cells": [
  {
   "cell_type": "markdown",
   "metadata": {},
   "source": [
    "# Google Apps 商店的数据分析"
   ]
  },
  {
   "cell_type": "markdown",
   "metadata": {},
   "source": [
    "## 简介\n",
    "\n",
    "相信大家对移动应用商店都不陌生吧。Google Play Store（Google Play商店）是谷歌官方的软件应用商店，拥有上架软件数十万款，下载量更是突破了20亿次，为了手机用户提供了极为广泛的应用选择，很受大家的欢迎。\n",
    "\n"
   ]
  },
  {
   "cell_type": "markdown",
   "metadata": {},
   "source": [
    "本数据集(googleplaystore.csv)包含了 Google Play 商店中 App 的数据。该数据是Kaggle中 [Google Play Store Apps](https://www.kaggle.com/lava18/google-play-store-apps) 的一部分，其中包含 Google Play 商店中 10k+ 应用软件的信息。\n",
    "\n",
    "数据中的变量含义解释：\n",
    "```\n",
    "App: 应用的名称，字符变量。\n",
    "Category: 应用所属的分类，字符变量。\n",
    "Rating: 某应用的用户评分，数值变量。\n",
    "Reviews: 某应用获得的用户评论数量，数值变量。\n",
    "Size: 某应用的所占存储空间的大小，字符变量。\n",
    "Installs: 用户安装和下载某应用的次数，字符变量。\n",
    "Type: 付费或免费，分类变量。\n",
    "Price: 价格，字符变量。\n",
    "Content Rating: 应用商店针对内容给出的年龄评级组 - Children / Mature 21+ / Adult，分类变量。\n",
    "Genres: 类型/流派，一个应用可以属于多个流派，比如音乐、游戏、家庭等，字符变量。\n",
    "Last Updated: 应用最新更新的日期，字符变量。\n",
    "Current Ver: 当前应用的版本，字符变量。\n",
    "Android Ver: 安装该应用所需要的最低安卓版本，字符变量。\n",
    "\n",
    "```"
   ]
  },
  {
   "cell_type": "markdown",
   "metadata": {},
   "source": [
    "## 项目完成指南\n",
    "\n",
    "\n",
    "\n",
    "本项目中的数据分析流程已经给出，但代码将完全由你自己进行书写，如果你无法完成本项目，说明你目前的能力并不足以完成 数据分析(进阶)纳米学位，建议先进行 数据分析（入门）纳米学位的学习，掌握进阶课程的先修知识。\n",
    "\n",
    "对于数据分析过程的记录也是数据分析报告的一个重要部分，你可以自己在需要的位置插入Markdown cell，记录你在数据分析中的关键步骤和推理过程。比如：数据有什么样的特点，统计数据的含义是什么，你从可视化中可以得出什么结论，下一步分析是什么，为什么执行这种分析。如果你无法做到这一点，你也无法通过本项目。\n",
    "\n",
    "\n",
    "> **小贴士**: 像这样的引用部分旨在为学员提供实用指导，帮助学员了解并使用 Jupyter notebook"
   ]
  },
  {
   "cell_type": "markdown",
   "metadata": {},
   "source": [
    "## 提出问题\n",
    "\n",
    "在此项目中，你将以一名数据分析师的身份执行数据的探索性分析。你将了解数据分析过程的基本流程。在你分析数据之前，请先思考几个你需要了解的关于 Google 商店中应用的问题，例如，最受欢迎（下载量最高）的 Apps 有什么特征？哪些 App 的评分更高？\n",
    "\n",
    "**问题**：请写下你感兴趣的问题，请确保这些问题能够由现有的数据进行回答。\n",
    "（为了确保学习的效果，请确保你的数据分析报告中能够包含2幅可视化和1个相关性分析。）\n",
    "\n",
    "**答案**：将此文本替换为你的回答！\n",
    "\n",
    "\n",
    "在提出了问题之后，我们将开始导入数据，并对数据进行探索性分析，来回答上面提出的问题。\n",
    "\n",
    "> **小贴士**: 双击上框，文本就会发生变化，所有格式都会被清除，以便你编辑该文本块。该文本块是用 [Markdown](http://daringfireball.net/projects/markdown/syntax)编写的，该语言使用纯文本语法，能用页眉、链接、斜体等来规范文本格式。在纳米学位课程中，你也会用到 Markdown。编辑后，可使用 **Shift** + **Enter** 或 **Shift** + **Return** 运行上该框，使其呈现出编辑好的文本格式。"
   ]
  },
  {
   "cell_type": "raw",
   "metadata": {},
   "source": [
    "## 数据评估和清理"
   ]
  },
  {
   "cell_type": "markdown",
   "metadata": {},
   "source": [
    "> **小贴士**: 运行代码框的方法与编辑上方的 Markdown 框的格式类似，你只需点击代码框，按下键盘快捷键 **Shift** + **Enter** 或 **Shift** + **Return** ，或者你也可先选择代码框，然后点击工具栏的 **运行** 按钮来运行代码。运行代码框时，相应单元左侧的信息会出现星号，即 `In [*]:`，若代码执行完毕，星号则会变为某个数字，如 `In [1]`。如果代码运行后有输出结果，输出将会以 `Out [1]:` 的形式出现，其中的数字将与 \"In\" 中的数字相对应。"
   ]
  },
  {
   "cell_type": "code",
   "execution_count": 13,
   "metadata": {},
   "outputs": [
    {
     "name": "stdout",
     "output_type": "stream",
     "text": [
      "--2019-07-08 15:13:25--  http://d.xiazaiziti.com/en_fonts/fonts/s/SimHei.ttf\n",
      "Resolving d.xiazaiziti.com (d.xiazaiziti.com)... 67.198.189.58\n",
      "Connecting to d.xiazaiziti.com (d.xiazaiziti.com)|67.198.189.58|:80... connected.\n",
      "HTTP request sent, awaiting response... 200 OK\n",
      "Length: 10050868 (9.6M) [application/octet-stream]\n",
      "Saving to: ‘/opt/conda/lib/python3.6/site-packages/matplotlib/mpl-data/fonts/ttf/SimHei.ttf’\n",
      "\n",
      "/opt/conda/lib/pyth 100%[===================>]   9.58M  3.05MB/s    in 3.1s    \n",
      "\n",
      "2019-07-08 15:13:29 (3.05 MB/s) - ‘/opt/conda/lib/python3.6/site-packages/matplotlib/mpl-data/fonts/ttf/SimHei.ttf’ saved [10050868/10050868]\n",
      "\n"
     ]
    }
   ],
   "source": [
    "# 请先运行此代码块，以确保在可视化中可以显示中文\n",
    "!rm -rf ~/.cache/matplotlib/fontList.json\n",
    "!wget http://d.xiazaiziti.com/en_fonts/fonts/s/SimHei.ttf -O /opt/conda/lib/python3.6/site-packages/matplotlib/mpl-data/fonts/ttf/SimHei.ttf\n",
    "import matplotlib.pyplot as plt \n",
    "\n",
    "plt.rcParams['font.sans-serif']=['SimHei'] #用来正常显示中文标签\n",
    "plt.rcParams['axes.unicode_minus']=False #用来正常显示负号"
   ]
  },
  {
   "cell_type": "code",
   "execution_count": 1,
   "metadata": {},
   "outputs": [
    {
     "name": "stderr",
     "output_type": "stream",
     "text": [
      "UsageError: Line magic function `%` not found.\n"
     ]
    }
   ],
   "source": [
    "# TO DO: load pacakges\n",
    "import numpy as np\n",
    "import pandas as pd\n",
    "% matplotlib inline"
   ]
  },
  {
   "cell_type": "code",
   "execution_count": 2,
   "metadata": {
    "ExecuteTime": {
     "end_time": "2019-07-11T15:23:16.909105Z",
     "start_time": "2019-07-11T15:23:16.903121Z"
    }
   },
   "outputs": [],
   "source": [
    "def add3(numa, numb, numc):\n",
    "    sum = numa + numb + numc\n",
    "    return sum"
   ]
  },
  {
   "cell_type": "code",
   "execution_count": 15,
   "metadata": {
    "ExecuteTime": {
     "end_time": "2019-07-12T15:27:29.948803Z",
     "start_time": "2019-07-12T15:27:29.943820Z"
    }
   },
   "outputs": [],
   "source": [
    "import sklearn\n",
    "sklearn.data*?"
   ]
  },
  {
   "cell_type": "code",
   "execution_count": 28,
   "metadata": {},
   "outputs": [
    {
     "data": {
      "text/html": [
       "<div>\n",
       "<style scoped>\n",
       "    .dataframe tbody tr th:only-of-type {\n",
       "        vertical-align: middle;\n",
       "    }\n",
       "\n",
       "    .dataframe tbody tr th {\n",
       "        vertical-align: top;\n",
       "    }\n",
       "\n",
       "    .dataframe thead th {\n",
       "        text-align: right;\n",
       "    }\n",
       "</style>\n",
       "<table border=\"1\" class=\"dataframe\">\n",
       "  <thead>\n",
       "    <tr style=\"text-align: right;\">\n",
       "      <th></th>\n",
       "      <th>App</th>\n",
       "      <th>Category</th>\n",
       "      <th>Rating</th>\n",
       "      <th>Reviews</th>\n",
       "      <th>Size</th>\n",
       "      <th>Installs</th>\n",
       "      <th>Type</th>\n",
       "      <th>Price</th>\n",
       "      <th>Content Rating</th>\n",
       "      <th>Genres</th>\n",
       "      <th>Last Updated</th>\n",
       "      <th>Current Ver</th>\n",
       "      <th>Android Ver</th>\n",
       "    </tr>\n",
       "  </thead>\n",
       "  <tbody>\n",
       "    <tr>\n",
       "      <th>0</th>\n",
       "      <td>Photo Editor &amp; Candy Camera &amp; Grid &amp; ScrapBook</td>\n",
       "      <td>ART_AND_DESIGN</td>\n",
       "      <td>4.1</td>\n",
       "      <td>159</td>\n",
       "      <td>19M</td>\n",
       "      <td>10,000+</td>\n",
       "      <td>Free</td>\n",
       "      <td>0</td>\n",
       "      <td>Everyone</td>\n",
       "      <td>Art &amp; Design</td>\n",
       "      <td>January 7, 2018</td>\n",
       "      <td>1.0.0</td>\n",
       "      <td>4.0.3 and up</td>\n",
       "    </tr>\n",
       "    <tr>\n",
       "      <th>1</th>\n",
       "      <td>Coloring book moana</td>\n",
       "      <td>ART_AND_DESIGN</td>\n",
       "      <td>3.9</td>\n",
       "      <td>967</td>\n",
       "      <td>14M</td>\n",
       "      <td>500,000+</td>\n",
       "      <td>Free</td>\n",
       "      <td>0</td>\n",
       "      <td>Everyone</td>\n",
       "      <td>Art &amp; Design;Pretend Play</td>\n",
       "      <td>January 15, 2018</td>\n",
       "      <td>2.0.0</td>\n",
       "      <td>4.0.3 and up</td>\n",
       "    </tr>\n",
       "    <tr>\n",
       "      <th>2</th>\n",
       "      <td>U Launcher Lite – FREE Live Cool Themes, Hide ...</td>\n",
       "      <td>ART_AND_DESIGN</td>\n",
       "      <td>4.7</td>\n",
       "      <td>87510</td>\n",
       "      <td>8.7M</td>\n",
       "      <td>5,000,000+</td>\n",
       "      <td>Free</td>\n",
       "      <td>0</td>\n",
       "      <td>Everyone</td>\n",
       "      <td>Art &amp; Design</td>\n",
       "      <td>August 1, 2018</td>\n",
       "      <td>1.2.4</td>\n",
       "      <td>4.0.3 and up</td>\n",
       "    </tr>\n",
       "    <tr>\n",
       "      <th>3</th>\n",
       "      <td>Sketch - Draw &amp; Paint</td>\n",
       "      <td>ART_AND_DESIGN</td>\n",
       "      <td>4.5</td>\n",
       "      <td>215644</td>\n",
       "      <td>25M</td>\n",
       "      <td>50,000,000+</td>\n",
       "      <td>Free</td>\n",
       "      <td>0</td>\n",
       "      <td>Teen</td>\n",
       "      <td>Art &amp; Design</td>\n",
       "      <td>June 8, 2018</td>\n",
       "      <td>Varies with device</td>\n",
       "      <td>4.2 and up</td>\n",
       "    </tr>\n",
       "    <tr>\n",
       "      <th>4</th>\n",
       "      <td>Pixel Draw - Number Art Coloring Book</td>\n",
       "      <td>ART_AND_DESIGN</td>\n",
       "      <td>4.3</td>\n",
       "      <td>967</td>\n",
       "      <td>2.8M</td>\n",
       "      <td>100,000+</td>\n",
       "      <td>Free</td>\n",
       "      <td>0</td>\n",
       "      <td>Everyone</td>\n",
       "      <td>Art &amp; Design;Creativity</td>\n",
       "      <td>June 20, 2018</td>\n",
       "      <td>1.1</td>\n",
       "      <td>4.4 and up</td>\n",
       "    </tr>\n",
       "    <tr>\n",
       "      <th>5</th>\n",
       "      <td>Paper flowers instructions</td>\n",
       "      <td>ART_AND_DESIGN</td>\n",
       "      <td>4.4</td>\n",
       "      <td>167</td>\n",
       "      <td>5.6M</td>\n",
       "      <td>50,000+</td>\n",
       "      <td>Free</td>\n",
       "      <td>0</td>\n",
       "      <td>Everyone</td>\n",
       "      <td>Art &amp; Design</td>\n",
       "      <td>March 26, 2017</td>\n",
       "      <td>1.0</td>\n",
       "      <td>2.3 and up</td>\n",
       "    </tr>\n",
       "    <tr>\n",
       "      <th>6</th>\n",
       "      <td>Smoke Effect Photo Maker - Smoke Editor</td>\n",
       "      <td>ART_AND_DESIGN</td>\n",
       "      <td>3.8</td>\n",
       "      <td>178</td>\n",
       "      <td>19M</td>\n",
       "      <td>50,000+</td>\n",
       "      <td>Free</td>\n",
       "      <td>0</td>\n",
       "      <td>Everyone</td>\n",
       "      <td>Art &amp; Design</td>\n",
       "      <td>April 26, 2018</td>\n",
       "      <td>1.1</td>\n",
       "      <td>4.0.3 and up</td>\n",
       "    </tr>\n",
       "    <tr>\n",
       "      <th>7</th>\n",
       "      <td>Infinite Painter</td>\n",
       "      <td>ART_AND_DESIGN</td>\n",
       "      <td>4.1</td>\n",
       "      <td>36815</td>\n",
       "      <td>29M</td>\n",
       "      <td>1,000,000+</td>\n",
       "      <td>Free</td>\n",
       "      <td>0</td>\n",
       "      <td>Everyone</td>\n",
       "      <td>Art &amp; Design</td>\n",
       "      <td>June 14, 2018</td>\n",
       "      <td>6.1.61.1</td>\n",
       "      <td>4.2 and up</td>\n",
       "    </tr>\n",
       "    <tr>\n",
       "      <th>8</th>\n",
       "      <td>Garden Coloring Book</td>\n",
       "      <td>ART_AND_DESIGN</td>\n",
       "      <td>4.4</td>\n",
       "      <td>13791</td>\n",
       "      <td>33M</td>\n",
       "      <td>1,000,000+</td>\n",
       "      <td>Free</td>\n",
       "      <td>0</td>\n",
       "      <td>Everyone</td>\n",
       "      <td>Art &amp; Design</td>\n",
       "      <td>September 20, 2017</td>\n",
       "      <td>2.9.2</td>\n",
       "      <td>3.0 and up</td>\n",
       "    </tr>\n",
       "    <tr>\n",
       "      <th>9</th>\n",
       "      <td>Kids Paint Free - Drawing Fun</td>\n",
       "      <td>ART_AND_DESIGN</td>\n",
       "      <td>4.7</td>\n",
       "      <td>121</td>\n",
       "      <td>3.1M</td>\n",
       "      <td>10,000+</td>\n",
       "      <td>Free</td>\n",
       "      <td>0</td>\n",
       "      <td>Everyone</td>\n",
       "      <td>Art &amp; Design;Creativity</td>\n",
       "      <td>July 3, 2018</td>\n",
       "      <td>2.8</td>\n",
       "      <td>4.0.3 and up</td>\n",
       "    </tr>\n",
       "  </tbody>\n",
       "</table>\n",
       "</div>"
      ],
      "text/plain": [
       "                                                 App        Category  Rating  \\\n",
       "0     Photo Editor & Candy Camera & Grid & ScrapBook  ART_AND_DESIGN     4.1   \n",
       "1                                Coloring book moana  ART_AND_DESIGN     3.9   \n",
       "2  U Launcher Lite – FREE Live Cool Themes, Hide ...  ART_AND_DESIGN     4.7   \n",
       "3                              Sketch - Draw & Paint  ART_AND_DESIGN     4.5   \n",
       "4              Pixel Draw - Number Art Coloring Book  ART_AND_DESIGN     4.3   \n",
       "5                         Paper flowers instructions  ART_AND_DESIGN     4.4   \n",
       "6            Smoke Effect Photo Maker - Smoke Editor  ART_AND_DESIGN     3.8   \n",
       "7                                   Infinite Painter  ART_AND_DESIGN     4.1   \n",
       "8                               Garden Coloring Book  ART_AND_DESIGN     4.4   \n",
       "9                      Kids Paint Free - Drawing Fun  ART_AND_DESIGN     4.7   \n",
       "\n",
       "  Reviews  Size     Installs  Type Price Content Rating  \\\n",
       "0     159   19M      10,000+  Free     0       Everyone   \n",
       "1     967   14M     500,000+  Free     0       Everyone   \n",
       "2   87510  8.7M   5,000,000+  Free     0       Everyone   \n",
       "3  215644   25M  50,000,000+  Free     0           Teen   \n",
       "4     967  2.8M     100,000+  Free     0       Everyone   \n",
       "5     167  5.6M      50,000+  Free     0       Everyone   \n",
       "6     178   19M      50,000+  Free     0       Everyone   \n",
       "7   36815   29M   1,000,000+  Free     0       Everyone   \n",
       "8   13791   33M   1,000,000+  Free     0       Everyone   \n",
       "9     121  3.1M      10,000+  Free     0       Everyone   \n",
       "\n",
       "                      Genres        Last Updated         Current Ver  \\\n",
       "0               Art & Design     January 7, 2018               1.0.0   \n",
       "1  Art & Design;Pretend Play    January 15, 2018               2.0.0   \n",
       "2               Art & Design      August 1, 2018               1.2.4   \n",
       "3               Art & Design        June 8, 2018  Varies with device   \n",
       "4    Art & Design;Creativity       June 20, 2018                 1.1   \n",
       "5               Art & Design      March 26, 2017                 1.0   \n",
       "6               Art & Design      April 26, 2018                 1.1   \n",
       "7               Art & Design       June 14, 2018            6.1.61.1   \n",
       "8               Art & Design  September 20, 2017               2.9.2   \n",
       "9    Art & Design;Creativity        July 3, 2018                 2.8   \n",
       "\n",
       "    Android Ver  \n",
       "0  4.0.3 and up  \n",
       "1  4.0.3 and up  \n",
       "2  4.0.3 and up  \n",
       "3    4.2 and up  \n",
       "4    4.4 and up  \n",
       "5    2.3 and up  \n",
       "6  4.0.3 and up  \n",
       "7    4.2 and up  \n",
       "8    3.0 and up  \n",
       "9  4.0.3 and up  "
      ]
     },
     "execution_count": 28,
     "metadata": {},
     "output_type": "execute_result"
    }
   ],
   "source": [
    "# TO DO: load the dataset\n",
    "df=pd.read_csv('googleplaystore.csv')\n",
    "df.head(10)"
   ]
  },
  {
   "cell_type": "code",
   "execution_count": 16,
   "metadata": {},
   "outputs": [
    {
     "name": "stdout",
     "output_type": "stream",
     "text": [
      "<class 'pandas.core.frame.DataFrame'>\n",
      "RangeIndex: 10841 entries, 0 to 10840\n",
      "Data columns (total 13 columns):\n",
      "App               10841 non-null object\n",
      "Category          10841 non-null object\n",
      "Rating            9367 non-null float64\n",
      "Reviews           10841 non-null object\n",
      "Size              10841 non-null object\n",
      "Installs          10841 non-null object\n",
      "Type              10840 non-null object\n",
      "Price             10841 non-null object\n",
      "Content Rating    10840 non-null object\n",
      "Genres            10841 non-null object\n",
      "Last Updated      10841 non-null object\n",
      "Current Ver       10833 non-null object\n",
      "Android Ver       10838 non-null object\n",
      "dtypes: float64(1), object(12)\n",
      "memory usage: 1.1+ MB\n"
     ]
    }
   ],
   "source": [
    "# TO DO: check the dataset general info\n",
    "df.info()"
   ]
  },
  {
   "cell_type": "code",
   "execution_count": 17,
   "metadata": {},
   "outputs": [
    {
     "name": "stdout",
     "output_type": "stream",
     "text": [
      "<class 'pandas.core.frame.DataFrame'>\n",
      "RangeIndex: 10841 entries, 0 to 10840\n",
      "Data columns (total 13 columns):\n",
      "App               10841 non-null object\n",
      "Category          10841 non-null object\n",
      "Rating            10841 non-null float64\n",
      "Reviews           10841 non-null object\n",
      "Size              10841 non-null object\n",
      "Installs          10841 non-null object\n",
      "Type              10840 non-null object\n",
      "Price             10841 non-null object\n",
      "Content Rating    10840 non-null object\n",
      "Genres            10841 non-null object\n",
      "Last Updated      10841 non-null object\n",
      "Current Ver       10833 non-null object\n",
      "Android Ver       10838 non-null object\n",
      "dtypes: float64(1), object(12)\n",
      "memory usage: 1.1+ MB\n"
     ]
    }
   ],
   "source": [
    "# TO DO: clean the data (optional: only there are problems)\n",
    "# 使用平均值填充缺失的值\n",
    "df.fillna(df.mean(),inplace=True)\n",
    "df.info()"
   ]
  },
  {
   "cell_type": "code",
   "execution_count": 18,
   "metadata": {},
   "outputs": [
    {
     "data": {
      "text/plain": [
       "App               10039\n",
       "Category          10039\n",
       "Rating            10039\n",
       "Reviews           10039\n",
       "Size              10039\n",
       "Installs          10039\n",
       "Type              10039\n",
       "Price             10039\n",
       "Content Rating    10039\n",
       "Genres            10039\n",
       "Last Updated      10039\n",
       "Current Ver       10033\n",
       "Android Ver       10038\n",
       "dtype: int64"
      ]
     },
     "execution_count": 18,
     "metadata": {},
     "output_type": "execute_result"
    }
   ],
   "source": [
    "# 查找Type = Free 有多少条数据\n",
    "df[df['Type'] == 'Free'].count()"
   ]
  },
  {
   "cell_type": "code",
   "execution_count": 19,
   "metadata": {},
   "outputs": [
    {
     "data": {
      "text/plain": [
       "App               802\n",
       "Category          802\n",
       "Rating            802\n",
       "Reviews           802\n",
       "Size              802\n",
       "Installs          802\n",
       "Type              801\n",
       "Price             802\n",
       "Content Rating    801\n",
       "Genres            802\n",
       "Last Updated      802\n",
       "Current Ver       800\n",
       "Android Ver       800\n",
       "dtype: int64"
      ]
     },
     "execution_count": 19,
     "metadata": {},
     "output_type": "execute_result"
    }
   ],
   "source": [
    "# 查找Type ！= Free 有多少条数据\n",
    "df[df['Type'] != 'Free'].count()"
   ]
  },
  {
   "cell_type": "code",
   "execution_count": 20,
   "metadata": {
    "scrolled": true
   },
   "outputs": [
    {
     "name": "stdout",
     "output_type": "stream",
     "text": [
      "<class 'pandas.core.frame.DataFrame'>\n",
      "RangeIndex: 10841 entries, 0 to 10840\n",
      "Data columns (total 13 columns):\n",
      "App               10841 non-null object\n",
      "Category          10841 non-null object\n",
      "Rating            10841 non-null float64\n",
      "Reviews           10841 non-null object\n",
      "Size              10841 non-null object\n",
      "Installs          10841 non-null object\n",
      "Type              10841 non-null object\n",
      "Price             10841 non-null object\n",
      "Content Rating    10840 non-null object\n",
      "Genres            10841 non-null object\n",
      "Last Updated      10841 non-null object\n",
      "Current Ver       10833 non-null object\n",
      "Android Ver       10838 non-null object\n",
      "dtypes: float64(1), object(12)\n",
      "memory usage: 1.1+ MB\n"
     ]
    }
   ],
   "source": [
    "# 使用Free 填充Type 缺失的值\n",
    "df['Type'].fillna('Free',inplace=True)\n",
    "df.info()"
   ]
  },
  {
   "cell_type": "code",
   "execution_count": 21,
   "metadata": {},
   "outputs": [
    {
     "name": "stdout",
     "output_type": "stream",
     "text": [
      "<class 'pandas.core.frame.DataFrame'>\n",
      "RangeIndex: 10841 entries, 0 to 10840\n",
      "Data columns (total 13 columns):\n",
      "App               10841 non-null object\n",
      "Category          10841 non-null object\n",
      "Rating            10841 non-null float64\n",
      "Reviews           10841 non-null object\n",
      "Size              10841 non-null object\n",
      "Installs          10841 non-null object\n",
      "Type              10841 non-null object\n",
      "Price             10841 non-null object\n",
      "Content Rating    10840 non-null object\n",
      "Genres            10841 non-null object\n",
      "Last Updated      10841 non-null object\n",
      "Current Ver       10841 non-null object\n",
      "Android Ver       10838 non-null object\n",
      "dtypes: float64(1), object(12)\n",
      "memory usage: 1.1+ MB\n"
     ]
    }
   ],
   "source": [
    "# 使用Varies with device 填充Current Ver 缺失的值\n",
    "df['Current Ver'].fillna('Varies with device',inplace=True)\n",
    "df.info()"
   ]
  },
  {
   "cell_type": "code",
   "execution_count": 22,
   "metadata": {},
   "outputs": [
    {
     "name": "stdout",
     "output_type": "stream",
     "text": [
      "<class 'pandas.core.frame.DataFrame'>\n",
      "RangeIndex: 10841 entries, 0 to 10840\n",
      "Data columns (total 13 columns):\n",
      "App               10841 non-null object\n",
      "Category          10841 non-null object\n",
      "Rating            10841 non-null float64\n",
      "Reviews           10841 non-null object\n",
      "Size              10841 non-null object\n",
      "Installs          10841 non-null object\n",
      "Type              10841 non-null object\n",
      "Price             10841 non-null object\n",
      "Content Rating    10841 non-null object\n",
      "Genres            10841 non-null object\n",
      "Last Updated      10841 non-null object\n",
      "Current Ver       10841 non-null object\n",
      "Android Ver       10838 non-null object\n",
      "dtypes: float64(1), object(12)\n",
      "memory usage: 1.1+ MB\n"
     ]
    }
   ],
   "source": [
    "# 使用Everyone 填充Content Rating 缺失的值\n",
    "df['Content Rating'].fillna('Everyone',inplace=True)\n",
    "df.info()"
   ]
  },
  {
   "cell_type": "code",
   "execution_count": 23,
   "metadata": {},
   "outputs": [
    {
     "name": "stdout",
     "output_type": "stream",
     "text": [
      "<class 'pandas.core.frame.DataFrame'>\n",
      "RangeIndex: 10841 entries, 0 to 10840\n",
      "Data columns (total 13 columns):\n",
      "App               10841 non-null object\n",
      "Category          10841 non-null object\n",
      "Rating            10841 non-null float64\n",
      "Reviews           10841 non-null object\n",
      "Size              10841 non-null object\n",
      "Installs          10841 non-null object\n",
      "Type              10841 non-null object\n",
      "Price             10841 non-null object\n",
      "Content Rating    10841 non-null object\n",
      "Genres            10841 non-null object\n",
      "Last Updated      10841 non-null object\n",
      "Current Ver       10841 non-null object\n",
      "Android Ver       10838 non-null object\n",
      "dtypes: float64(1), object(12)\n",
      "memory usage: 1.1+ MB\n"
     ]
    }
   ],
   "source": [
    "# 使用平均值填充缺失的值\n",
    "df.fillna(df.mean(),inplace=True)\n",
    "df.info()"
   ]
  },
  {
   "cell_type": "code",
   "execution_count": 24,
   "metadata": {},
   "outputs": [],
   "source": [
    "# 把清洗过的数据另外保存一份下来，方便下面分析查询\n",
    "df.to_csv('googleplaystore_edited.csv', index=False)"
   ]
  },
  {
   "cell_type": "code",
   "execution_count": 13,
   "metadata": {
    "scrolled": true
   },
   "outputs": [
    {
     "name": "stdout",
     "output_type": "stream",
     "text": [
      "<class 'pandas.core.frame.DataFrame'>\n",
      "RangeIndex: 10841 entries, 0 to 10840\n",
      "Data columns (total 13 columns):\n",
      "App               10841 non-null object\n",
      "Category          10841 non-null object\n",
      "Rating            10841 non-null float64\n",
      "Reviews           10841 non-null object\n",
      "Size              10841 non-null object\n",
      "Installs          10841 non-null object\n",
      "Type              10841 non-null object\n",
      "Price             10841 non-null object\n",
      "Content Rating    10841 non-null object\n",
      "Genres            10841 non-null object\n",
      "Last Updated      10841 non-null object\n",
      "Current Ver       10841 non-null object\n",
      "Android Ver       10838 non-null object\n",
      "dtypes: float64(1), object(12)\n",
      "memory usage: 1.1+ MB\n"
     ]
    }
   ],
   "source": [
    "# 检查刚刚保存的csv文件是否是我们需要的数据\n",
    "df_edit=pd.read_csv('googleplaystore_edited.csv')\n",
    "df_edit.info()"
   ]
  },
  {
   "cell_type": "code",
   "execution_count": 32,
   "metadata": {},
   "outputs": [
    {
     "data": {
      "text/plain": [
       "483"
      ]
     },
     "execution_count": 32,
     "metadata": {},
     "output_type": "execute_result"
    }
   ],
   "source": [
    "# 检查数据是否有重复\n",
    "sum(df_edit.duplicated())"
   ]
  },
  {
   "cell_type": "code",
   "execution_count": 33,
   "metadata": {},
   "outputs": [],
   "source": [
    "# 去掉重复数据\n",
    "df_edit.drop_duplicates(inplace=True)"
   ]
  },
  {
   "cell_type": "code",
   "execution_count": 34,
   "metadata": {},
   "outputs": [
    {
     "data": {
      "text/plain": [
       "0"
      ]
     },
     "execution_count": 34,
     "metadata": {},
     "output_type": "execute_result"
    }
   ],
   "source": [
    "sum(df_edit.duplicated())"
   ]
  },
  {
   "cell_type": "code",
   "execution_count": 35,
   "metadata": {},
   "outputs": [],
   "source": [
    "# 把清洗过的数据另外保存一份下来，方便下面分析查询\n",
    "df_edit.to_csv('googleplaystore_edited2.csv', index=False)"
   ]
  },
  {
   "cell_type": "code",
   "execution_count": 76,
   "metadata": {},
   "outputs": [
    {
     "name": "stdout",
     "output_type": "stream",
     "text": [
      "<class 'pandas.core.frame.DataFrame'>\n",
      "RangeIndex: 10358 entries, 0 to 10357\n",
      "Data columns (total 13 columns):\n",
      "App               10358 non-null object\n",
      "Category          10358 non-null object\n",
      "Rating            10358 non-null float64\n",
      "Reviews           10358 non-null object\n",
      "Size              10358 non-null object\n",
      "Installs          10358 non-null object\n",
      "Type              10358 non-null object\n",
      "Price             10358 non-null object\n",
      "Content Rating    10358 non-null object\n",
      "Genres            10358 non-null object\n",
      "Last Updated      10358 non-null object\n",
      "Current Ver       10358 non-null object\n",
      "Android Ver       10355 non-null object\n",
      "dtypes: float64(1), object(12)\n",
      "memory usage: 1.0+ MB\n"
     ]
    }
   ],
   "source": [
    "# 检查刚刚保存的csv文件是否是我们需要的数据\n",
    "df_edit2=pd.read_csv('googleplaystore_edited2.csv')\n",
    "df_edit2.info()"
   ]
  },
  {
   "cell_type": "code",
   "execution_count": 77,
   "metadata": {},
   "outputs": [
    {
     "data": {
      "text/html": [
       "<div>\n",
       "<style scoped>\n",
       "    .dataframe tbody tr th:only-of-type {\n",
       "        vertical-align: middle;\n",
       "    }\n",
       "\n",
       "    .dataframe tbody tr th {\n",
       "        vertical-align: top;\n",
       "    }\n",
       "\n",
       "    .dataframe thead th {\n",
       "        text-align: right;\n",
       "    }\n",
       "</style>\n",
       "<table border=\"1\" class=\"dataframe\">\n",
       "  <thead>\n",
       "    <tr style=\"text-align: right;\">\n",
       "      <th></th>\n",
       "      <th>App</th>\n",
       "      <th>Category</th>\n",
       "      <th>Rating</th>\n",
       "      <th>Reviews</th>\n",
       "      <th>Size</th>\n",
       "      <th>Installs</th>\n",
       "      <th>Type</th>\n",
       "      <th>Price</th>\n",
       "      <th>Content Rating</th>\n",
       "      <th>Genres</th>\n",
       "      <th>Last Updated</th>\n",
       "      <th>Current Ver</th>\n",
       "      <th>Android Ver</th>\n",
       "    </tr>\n",
       "  </thead>\n",
       "  <tbody>\n",
       "    <tr>\n",
       "      <th>9990</th>\n",
       "      <td>Life Made WI-Fi Touchscreen Photo Frame</td>\n",
       "      <td>1.9</td>\n",
       "      <td>19.0</td>\n",
       "      <td>3.0M</td>\n",
       "      <td>1,000+</td>\n",
       "      <td>Free</td>\n",
       "      <td>0</td>\n",
       "      <td>Everyone</td>\n",
       "      <td>Everyone</td>\n",
       "      <td>February 11, 2018</td>\n",
       "      <td>1.0.19</td>\n",
       "      <td>4.0 and up</td>\n",
       "      <td>NaN</td>\n",
       "    </tr>\n",
       "    <tr>\n",
       "      <th>9991</th>\n",
       "      <td>osmino Wi-Fi: free WiFi</td>\n",
       "      <td>TOOLS</td>\n",
       "      <td>4.2</td>\n",
       "      <td>134203</td>\n",
       "      <td>4.1M</td>\n",
       "      <td>10,000,000+</td>\n",
       "      <td>Free</td>\n",
       "      <td>0</td>\n",
       "      <td>Everyone</td>\n",
       "      <td>Tools</td>\n",
       "      <td>August 7, 2018</td>\n",
       "      <td>6.06.14</td>\n",
       "      <td>4.4 and up</td>\n",
       "    </tr>\n",
       "  </tbody>\n",
       "</table>\n",
       "</div>"
      ],
      "text/plain": [
       "                                          App Category  Rating Reviews  \\\n",
       "9990  Life Made WI-Fi Touchscreen Photo Frame      1.9    19.0    3.0M   \n",
       "9991                  osmino Wi-Fi: free WiFi    TOOLS     4.2  134203   \n",
       "\n",
       "        Size     Installs  Type     Price Content Rating             Genres  \\\n",
       "9990  1,000+         Free     0  Everyone       Everyone  February 11, 2018   \n",
       "9991    4.1M  10,000,000+  Free         0       Everyone              Tools   \n",
       "\n",
       "        Last Updated Current Ver Android Ver  \n",
       "9990          1.0.19  4.0 and up         NaN  \n",
       "9991  August 7, 2018     6.06.14  4.4 and up  "
      ]
     },
     "execution_count": 77,
     "metadata": {},
     "output_type": "execute_result"
    }
   ],
   "source": [
    "df_edit2.iloc[9990:9992]"
   ]
  },
  {
   "cell_type": "code",
   "execution_count": 71,
   "metadata": {},
   "outputs": [
    {
     "data": {
      "text/plain": [
       "App               Life Made WI-Fi Touchscreen Photo Frame\n",
       "Category                                              1.9\n",
       "Rating                                                 19\n",
       "Reviews                                              3.0M\n",
       "Size                                               1,000+\n",
       "Installs                                             Free\n",
       "Type                                                    0\n",
       "Price                                            Everyone\n",
       "Content Rating                                   Everyone\n",
       "Genres                                  February 11, 2018\n",
       "Last Updated                                       1.0.19\n",
       "Current Ver                                    4.0 and up\n",
       "Android Ver                                           NaN\n",
       "Name: 9990, dtype: object"
      ]
     },
     "execution_count": 71,
     "metadata": {},
     "output_type": "execute_result"
    }
   ],
   "source": [
    "df_edit2.iloc[9990]"
   ]
  },
  {
   "cell_type": "code",
   "execution_count": 78,
   "metadata": {},
   "outputs": [
    {
     "name": "stderr",
     "output_type": "stream",
     "text": [
      "/opt/conda/lib/python3.6/site-packages/pandas/core/indexing.py:189: SettingWithCopyWarning: \n",
      "A value is trying to be set on a copy of a slice from a DataFrame\n",
      "\n",
      "See the caveats in the documentation: http://pandas.pydata.org/pandas-docs/stable/indexing.html#indexing-view-versus-copy\n",
      "  self._setitem_with_indexer(indexer, value)\n"
     ]
    }
   ],
   "source": [
    "# 行9990 数据有问题，修改\n",
    "# Installs 9990行有错误数据 ‘Free’ \n",
    "df_edit2[\"Category\"].iloc[9990]='TOOLS'\n",
    "df_edit2[\"Rating\"].iloc[9990]=1.9\n",
    "df_edit2[\"Reviews\"].iloc[9990]='19'\n",
    "df_edit2[\"Size\"].iloc[9990]='3.0M'\n",
    "df_edit2[\"Installs\"].iloc[9990]='1,000+'\n",
    "df_edit2[\"Type\"].iloc[9990]='Free'\n",
    "df_edit2[\"Price\"].iloc[9990]='0'\n",
    "df_edit2[\"Genres\"].iloc[9990]='Tools'\n",
    "df_edit2[\"Last Updated\"].iloc[9990]='February 11, 2018'\n",
    "df_edit2[\"Current Ver\"].iloc[9990]='1.0.19'\n",
    "df_edit2[\"Android Ver\"].iloc[9990]='4.0 and up'"
   ]
  },
  {
   "cell_type": "code",
   "execution_count": 79,
   "metadata": {},
   "outputs": [
    {
     "data": {
      "text/html": [
       "<div>\n",
       "<style scoped>\n",
       "    .dataframe tbody tr th:only-of-type {\n",
       "        vertical-align: middle;\n",
       "    }\n",
       "\n",
       "    .dataframe tbody tr th {\n",
       "        vertical-align: top;\n",
       "    }\n",
       "\n",
       "    .dataframe thead th {\n",
       "        text-align: right;\n",
       "    }\n",
       "</style>\n",
       "<table border=\"1\" class=\"dataframe\">\n",
       "  <thead>\n",
       "    <tr style=\"text-align: right;\">\n",
       "      <th></th>\n",
       "      <th>App</th>\n",
       "      <th>Category</th>\n",
       "      <th>Rating</th>\n",
       "      <th>Reviews</th>\n",
       "      <th>Size</th>\n",
       "      <th>Installs</th>\n",
       "      <th>Type</th>\n",
       "      <th>Price</th>\n",
       "      <th>Content Rating</th>\n",
       "      <th>Genres</th>\n",
       "      <th>Last Updated</th>\n",
       "      <th>Current Ver</th>\n",
       "      <th>Android Ver</th>\n",
       "    </tr>\n",
       "  </thead>\n",
       "  <tbody>\n",
       "    <tr>\n",
       "      <th>9990</th>\n",
       "      <td>Life Made WI-Fi Touchscreen Photo Frame</td>\n",
       "      <td>TOOLS</td>\n",
       "      <td>1.9</td>\n",
       "      <td>19</td>\n",
       "      <td>3.0M</td>\n",
       "      <td>1,000+</td>\n",
       "      <td>Free</td>\n",
       "      <td>0</td>\n",
       "      <td>Everyone</td>\n",
       "      <td>Tools</td>\n",
       "      <td>February 11, 2018</td>\n",
       "      <td>1.0.19</td>\n",
       "      <td>4.0 and up</td>\n",
       "    </tr>\n",
       "    <tr>\n",
       "      <th>9991</th>\n",
       "      <td>osmino Wi-Fi: free WiFi</td>\n",
       "      <td>TOOLS</td>\n",
       "      <td>4.2</td>\n",
       "      <td>134203</td>\n",
       "      <td>4.1M</td>\n",
       "      <td>10,000,000+</td>\n",
       "      <td>Free</td>\n",
       "      <td>0</td>\n",
       "      <td>Everyone</td>\n",
       "      <td>Tools</td>\n",
       "      <td>August 7, 2018</td>\n",
       "      <td>6.06.14</td>\n",
       "      <td>4.4 and up</td>\n",
       "    </tr>\n",
       "  </tbody>\n",
       "</table>\n",
       "</div>"
      ],
      "text/plain": [
       "                                          App Category  Rating Reviews  Size  \\\n",
       "9990  Life Made WI-Fi Touchscreen Photo Frame    TOOLS     1.9      19  3.0M   \n",
       "9991                  osmino Wi-Fi: free WiFi    TOOLS     4.2  134203  4.1M   \n",
       "\n",
       "         Installs  Type Price Content Rating Genres       Last Updated  \\\n",
       "9990       1,000+  Free     0       Everyone  Tools  February 11, 2018   \n",
       "9991  10,000,000+  Free     0       Everyone  Tools     August 7, 2018   \n",
       "\n",
       "     Current Ver Android Ver  \n",
       "9990      1.0.19  4.0 and up  \n",
       "9991     6.06.14  4.4 and up  "
      ]
     },
     "execution_count": 79,
     "metadata": {},
     "output_type": "execute_result"
    }
   ],
   "source": [
    "# 检查是否修改了\n",
    "df_edit2.iloc[9990:9992]"
   ]
  },
  {
   "cell_type": "code",
   "execution_count": 80,
   "metadata": {},
   "outputs": [],
   "source": [
    "# 把Installs 转为int64类型\n",
    "df_edit2[\"Installs\"]=pd.to_numeric(df_edit2[\"Installs\"].apply(lambda x: x.replace(\",\",\"\").replace(\"+\",\"\")))"
   ]
  },
  {
   "cell_type": "code",
   "execution_count": 81,
   "metadata": {},
   "outputs": [],
   "source": [
    "# 把Reviews 转为int64类型\n",
    "df_edit2[\"Reviews\"]=pd.to_numeric(df_edit2[\"Reviews\"])"
   ]
  },
  {
   "cell_type": "code",
   "execution_count": 82,
   "metadata": {},
   "outputs": [
    {
     "name": "stdout",
     "output_type": "stream",
     "text": [
      "<class 'pandas.core.frame.DataFrame'>\n",
      "RangeIndex: 10358 entries, 0 to 10357\n",
      "Data columns (total 13 columns):\n",
      "App               10358 non-null object\n",
      "Category          10358 non-null object\n",
      "Rating            10358 non-null float64\n",
      "Reviews           10358 non-null int64\n",
      "Size              10358 non-null object\n",
      "Installs          10358 non-null int64\n",
      "Type              10358 non-null object\n",
      "Price             10358 non-null object\n",
      "Content Rating    10358 non-null object\n",
      "Genres            10358 non-null object\n",
      "Last Updated      10358 non-null object\n",
      "Current Ver       10358 non-null object\n",
      "Android Ver       10356 non-null object\n",
      "dtypes: float64(1), int64(2), object(10)\n",
      "memory usage: 1.0+ MB\n"
     ]
    }
   ],
   "source": [
    "# 检查数据信息\n",
    "df_edit2.info()"
   ]
  },
  {
   "cell_type": "code",
   "execution_count": 83,
   "metadata": {},
   "outputs": [],
   "source": [
    "# 把清洗过的数据另外保存一份下来，方便下面分析查询\n",
    "df_edit2.to_csv('googleplaystore_edited3.csv', index=False)"
   ]
  },
  {
   "cell_type": "code",
   "execution_count": 85,
   "metadata": {},
   "outputs": [
    {
     "name": "stdout",
     "output_type": "stream",
     "text": [
      "<class 'pandas.core.frame.DataFrame'>\n",
      "RangeIndex: 10358 entries, 0 to 10357\n",
      "Data columns (total 13 columns):\n",
      "App               10358 non-null object\n",
      "Category          10358 non-null object\n",
      "Rating            10358 non-null float64\n",
      "Reviews           10358 non-null int64\n",
      "Size              10358 non-null object\n",
      "Installs          10358 non-null int64\n",
      "Type              10358 non-null object\n",
      "Price             10358 non-null object\n",
      "Content Rating    10358 non-null object\n",
      "Genres            10358 non-null object\n",
      "Last Updated      10358 non-null object\n",
      "Current Ver       10358 non-null object\n",
      "Android Ver       10356 non-null object\n",
      "dtypes: float64(1), int64(2), object(10)\n",
      "memory usage: 1.0+ MB\n"
     ]
    }
   ],
   "source": [
    "# 检查刚刚保存的csv文件是否是我们需要的数据\n",
    "df_edit3=pd.read_csv('googleplaystore_edited3.csv')\n",
    "df_edit3.info()"
   ]
  },
  {
   "cell_type": "markdown",
   "metadata": {},
   "source": [
    "## 数据清洗基本完成，下面进行数据分析"
   ]
  },
  {
   "cell_type": "markdown",
   "metadata": {},
   "source": [
    "## 数据探索分析"
   ]
  },
  {
   "cell_type": "code",
   "execution_count": null,
   "metadata": {
    "collapsed": true
   },
   "outputs": [],
   "source": [
    "# In exploratory data analysis, please make sure of using statistics and visualizations"
   ]
  },
  {
   "cell_type": "markdown",
   "metadata": {},
   "source": [
    "在数据的探索性分析中，请确保你对数据分析中的关键步骤和推理过程进行了记录。你可以自己插入code cell和markdown cell来组织你的报告。"
   ]
  },
  {
   "cell_type": "markdown",
   "metadata": {},
   "source": [
    "# 问题思考\n",
    "### 通过查看Google 商店中应用的数据，我希望从Google 商店中得到以下信息：\n",
    "\n",
    "**1:** 那些类型的应用最受欢迎（下载最多）;\n",
    "\n",
    "**2:** 那些类型的应用最评分最高;\n",
    "\n",
    "**3:** 那些类型的应用用户更喜欢付费;\n",
    "\n",
    "**4:** 用户喜欢下载哪些年龄评级组的应用（下载量最多）;\n",
    "\n",
    "**5:** 下载量最多、最评分最高跟付费率最高的应用是属于那个年龄评级组;"
   ]
  },
  {
   "cell_type": "markdown",
   "metadata": {},
   "source": [
    "# 数据分析"
   ]
  },
  {
   "cell_type": "markdown",
   "metadata": {},
   "source": [
    "### 问题1:我们先来探索问题1，哪些类型的应用最受欢迎"
   ]
  },
  {
   "cell_type": "code",
   "execution_count": 2,
   "metadata": {},
   "outputs": [
    {
     "name": "stdout",
     "output_type": "stream",
     "text": [
      "<class 'pandas.core.frame.DataFrame'>\n",
      "RangeIndex: 10358 entries, 0 to 10357\n",
      "Data columns (total 13 columns):\n",
      "App               10358 non-null object\n",
      "Category          10358 non-null object\n",
      "Rating            10358 non-null float64\n",
      "Reviews           10358 non-null int64\n",
      "Size              10358 non-null object\n",
      "Installs          10358 non-null int64\n",
      "Type              10358 non-null object\n",
      "Price             10358 non-null object\n",
      "Content Rating    10358 non-null object\n",
      "Genres            10358 non-null object\n",
      "Last Updated      10358 non-null object\n",
      "Current Ver       10358 non-null object\n",
      "Android Ver       10356 non-null object\n",
      "dtypes: float64(1), int64(2), object(10)\n",
      "memory usage: 1.0+ MB\n"
     ]
    }
   ],
   "source": [
    "df_analy=pd.read_csv('googleplaystore_edited3.csv')\n",
    "df_analy.info()"
   ]
  },
  {
   "cell_type": "code",
   "execution_count": 4,
   "metadata": {},
   "outputs": [
    {
     "data": {
      "text/plain": [
       "Category\n",
       "GAME                   31544024415\n",
       "COMMUNICATION          24152276251\n",
       "SOCIAL                 12513867902\n",
       "PRODUCTIVITY           12463091369\n",
       "TOOLS                  11452772915\n",
       "FAMILY                 10041692505\n",
       "PHOTOGRAPHY             9721247655\n",
       "TRAVEL_AND_LOCAL        6361887146\n",
       "VIDEO_PLAYERS           6222002720\n",
       "NEWS_AND_MAGAZINES      5393217760\n",
       "SHOPPING                2573348785\n",
       "ENTERTAINMENT           2455660000\n",
       "PERSONALIZATION         2074494782\n",
       "BOOKS_AND_REFERENCE     1916469576\n",
       "SPORTS                  1528574498\n",
       "HEALTH_AND_FITNESS      1361022512\n",
       "BUSINESS                 863664865\n",
       "FINANCE                  770348734\n",
       "MAPS_AND_NAVIGATION      724281890\n",
       "LIFESTYLE                534823539\n",
       "EDUCATION                533952000\n",
       "WEATHER                  426100520\n",
       "FOOD_AND_DRINK           257898751\n",
       "DATING                   206536107\n",
       "HOUSE_AND_HOME           125212461\n",
       "ART_AND_DESIGN           124338100\n",
       "LIBRARIES_AND_DEMO        62995910\n",
       "COMICS                    56086150\n",
       "AUTO_AND_VEHICLES         53130211\n",
       "MEDICAL                   42204177\n",
       "PARENTING                 31521110\n",
       "BEAUTY                    27197050\n",
       "EVENTS                    15973161\n",
       "Name: Installs, dtype: int64"
      ]
     },
     "execution_count": 4,
     "metadata": {},
     "output_type": "execute_result"
    }
   ],
   "source": [
    "# 统计各类型的应用的下载量\n",
    "df_analy.groupby('Category')['Installs'].sum().sort_values(ascending=False)"
   ]
  },
  {
   "cell_type": "code",
   "execution_count": 9,
   "metadata": {},
   "outputs": [
    {
     "data": {
      "text/plain": [
       "<matplotlib.axes._subplots.AxesSubplot at 0x114b33278>"
      ]
     },
     "execution_count": 9,
     "metadata": {},
     "output_type": "execute_result"
    },
    {
     "data": {
      "image/png": "[encoded data removed]",
      "text/plain": [
       "<Figure size 576x576 with 1 Axes>"
      ]
     },
     "metadata": {
      "needs_background": "light"
     },
     "output_type": "display_data"
    }
   ],
   "source": [
    "# 使用图表展示统计各类型的应用的下载量\n",
    "df_analy.groupby('Category')['Installs'].sum().sort_values(ascending = False).plot(kind='bar',figsize=(8,8))"
   ]
  },
  {
   "cell_type": "markdown",
   "metadata": {},
   "source": [
    "## 得出结论"
   ]
  },
  {
   "cell_type": "markdown",
   "metadata": {},
   "source": [
    "## 从图表可以看出 GAME（游戏）下载量最多，最受用户欢迎，\n",
    "\n",
    "## COMMUNICATION （通讯）下载量第二，\n",
    "\n",
    "## 从中可以看出平时用户使用的app最多就是游戏类的app 跟通讯类的app。"
   ]
  },
  {
   "cell_type": "markdown",
   "metadata": {},
   "source": [
    "### 问题2:我们再来看看问题2，那些类型的应用最评分最高"
   ]
  },
  {
   "cell_type": "code",
   "execution_count": 7,
   "metadata": {},
   "outputs": [
    {
     "data": {
      "text/plain": [
       "Category\n",
       "SOCIAL                 1.905632e+06\n",
       "COMMUNICATION          1.642824e+06\n",
       "GAME                   1.262745e+06\n",
       "PHOTOGRAPHY            6.344640e+05\n",
       "VIDEO_PLAYERS          6.307439e+05\n",
       "ENTERTAINMENT          4.285650e+05\n",
       "SHOPPING               4.237998e+05\n",
       "TOOLS                  3.236790e+05\n",
       "PRODUCTIVITY           2.519767e+05\n",
       "TRAVEL_AND_LOCAL       2.344522e+05\n",
       "MAPS_AND_NAVIGATION    2.237902e+05\n",
       "FAMILY                 2.042059e+05\n",
       "PERSONALIZATION        1.937968e+05\n",
       "SPORTS                 1.861046e+05\n",
       "EDUCATION              1.781962e+05\n",
       "WEATHER                1.781065e+05\n",
       "NEWS_AND_MAGAZINES     1.448707e+05\n",
       "HEALTH_AND_FITNESS     1.008013e+05\n",
       "BOOKS_AND_REFERENCE    9.510099e+04\n",
       "FOOD_AND_DRINK         6.186755e+04\n",
       "COMICS                 5.638793e+04\n",
       "FINANCE                4.722192e+04\n",
       "HOUSE_AND_HOME         3.493465e+04\n",
       "LIFESTYLE              3.437151e+04\n",
       "BUSINESS               2.894185e+04\n",
       "DATING                 2.829284e+04\n",
       "ART_AND_DESIGN         2.637600e+04\n",
       "PARENTING              1.597218e+04\n",
       "AUTO_AND_VEHICLES      1.369019e+04\n",
       "LIBRARIES_AND_DEMO     1.220139e+04\n",
       "BEAUTY                 7.476226e+03\n",
       "MEDICAL                3.423424e+03\n",
       "EVENTS                 2.515906e+03\n",
       "Name: Reviews, dtype: float64"
      ]
     },
     "execution_count": 7,
     "metadata": {},
     "output_type": "execute_result"
    }
   ],
   "source": [
    "# 统计各类型当中评分最高的应用，统计平均评分\n",
    "df_analy.groupby('Category')['Reviews'].mean().sort_values(ascending=False)"
   ]
  },
  {
   "cell_type": "code",
   "execution_count": 8,
   "metadata": {},
   "outputs": [
    {
     "data": {
      "text/plain": [
       "<matplotlib.axes._subplots.AxesSubplot at 0x114914048>"
      ]
     },
     "execution_count": 8,
     "metadata": {},
     "output_type": "execute_result"
    },
    {
     "data": {
      "image/png": "[encoded data removed]",
      "text/plain": [
       "<Figure size 576x576 with 1 Axes>"
      ]
     },
     "metadata": {
      "needs_background": "light"
     },
     "output_type": "display_data"
    }
   ],
   "source": [
    "# 使用图表展示统计那些类型的应用最评分最高\n",
    "df_analy.groupby('Category')['Reviews'].mean().sort_values(ascending=False).plot(kind='bar',figsize=(8,8))"
   ]
  },
  {
   "cell_type": "markdown",
   "metadata": {},
   "source": [
    "## 得出结论"
   ]
  },
  {
   "cell_type": "markdown",
   "metadata": {},
   "source": [
    "## 从图表可以看出 SOCIAL（社交）评分最高。COMMUNICATION （通讯）评分第二，从中可以看出用户比较喜爱社交类跟通讯类的app。"
   ]
  },
  {
   "cell_type": "markdown",
   "metadata": {},
   "source": [
    "### 问题3:接下来我们来分析问题3，那些类型的应用用户更喜欢付费"
   ]
  },
  {
   "cell_type": "code",
   "execution_count": 105,
   "metadata": {},
   "outputs": [
    {
     "data": {
      "text/plain": [
       "Category\n",
       "ART_AND_DESIGN           3\n",
       "AUTO_AND_VEHICLES        3\n",
       "BOOKS_AND_REFERENCE     28\n",
       "BUSINESS                12\n",
       "COMMUNICATION           27\n",
       "DATING                   7\n",
       "EDUCATION                4\n",
       "ENTERTAINMENT            2\n",
       "EVENTS                   1\n",
       "FAMILY                 187\n",
       "FINANCE                 17\n",
       "FOOD_AND_DRINK           2\n",
       "GAME                    83\n",
       "HEALTH_AND_FITNESS      15\n",
       "LIBRARIES_AND_DEMO       1\n",
       "LIFESTYLE               19\n",
       "MAPS_AND_NAVIGATION      5\n",
       "MEDICAL                 84\n",
       "NEWS_AND_MAGAZINES       2\n",
       "PARENTING                2\n",
       "PERSONALIZATION         82\n",
       "PHOTOGRAPHY             20\n",
       "PRODUCTIVITY            28\n",
       "SHOPPING                 2\n",
       "SOCIAL                   3\n",
       "SPORTS                  24\n",
       "TOOLS                   78\n",
       "TRAVEL_AND_LOCAL        12\n",
       "VIDEO_PLAYERS            4\n",
       "WEATHER                  8\n",
       "Name: Type, dtype: int64"
      ]
     },
     "execution_count": 105,
     "metadata": {},
     "output_type": "execute_result"
    }
   ],
   "source": [
    "# 那些类型的应用用户更喜欢付费，统计付费的数量//Paid\n",
    "df_Paid=df_analy[df_analy['Type'] == 'Paid']\n",
    "df_Paid.groupby('Category')['Type'].count()"
   ]
  },
  {
   "cell_type": "code",
   "execution_count": 106,
   "metadata": {},
   "outputs": [
    {
     "data": {
      "text/plain": [
       "<matplotlib.axes._subplots.AxesSubplot at 0x7f1cd434ca20>"
      ]
     },
     "execution_count": 106,
     "metadata": {},
     "output_type": "execute_result"
    },
    {
     "data": {
      "image/png": "[encoded data removed]",
      "text/plain": [
       "<matplotlib.figure.Figure at 0x7f1cd4276c18>"
      ]
     },
     "metadata": {
      "needs_background": "light"
     },
     "output_type": "display_data"
    }
   ],
   "source": [
    "# 使用图表展示统计那些类型的应用用户更喜欢付费\n",
    "df_Paid.groupby('Category')['Type'].count().plot(kind='bar',figsize=(8,8))"
   ]
  },
  {
   "cell_type": "markdown",
   "metadata": {},
   "source": [
    "## 得出结论"
   ]
  },
  {
   "cell_type": "markdown",
   "metadata": {},
   "source": [
    "## 从图表可以看出 FAMILY（家庭）付费率最高。可以看出对于用于家庭生活方面的app用户更愿意付费。"
   ]
  },
  {
   "cell_type": "markdown",
   "metadata": {},
   "source": [
    "### 问题4:接下来我们来分析问题4，那些类型的应用用户喜欢下载哪些年龄评级组的应用（下载量最多）"
   ]
  },
  {
   "cell_type": "code",
   "execution_count": 141,
   "metadata": {},
   "outputs": [
    {
     "data": {
      "text/plain": [
       "Content Rating\n",
       "Adults only 18+       3\n",
       "Everyone           8383\n",
       "Everyone 10+        377\n",
       "Mature 17+          447\n",
       "Teen               1146\n",
       "Unrated               2\n",
       "Name: App, dtype: int64"
      ]
     },
     "execution_count": 141,
     "metadata": {},
     "output_type": "execute_result"
    }
   ],
   "source": [
    "# 那些类型的应用用户喜欢下载哪些年龄评级组的应用，统计App数量\n",
    "df_analy.groupby('Content Rating')['App'].count()"
   ]
  },
  {
   "cell_type": "code",
   "execution_count": 142,
   "metadata": {},
   "outputs": [
    {
     "data": {
      "text/plain": [
       "<matplotlib.axes._subplots.AxesSubplot at 0x7f1cd3f2c8d0>"
      ]
     },
     "execution_count": 142,
     "metadata": {},
     "output_type": "execute_result"
    },
    {
     "data": {
      "image/png": "[encoded data removed]",
      "text/plain": [
       "<matplotlib.figure.Figure at 0x7f1cd3f2c1d0>"
      ]
     },
     "metadata": {
      "needs_background": "light"
     },
     "output_type": "display_data"
    }
   ],
   "source": [
    "# 使用图表展示统计那些类型的应用用户喜欢下载哪些年龄评级组的应用，统计App数量\n",
    "df_analy.groupby('Content Rating')['App'].count().plot(kind='bar',figsize=(8,8))"
   ]
  },
  {
   "cell_type": "markdown",
   "metadata": {},
   "source": [
    "## 得出结论"
   ]
  },
  {
   "cell_type": "markdown",
   "metadata": {},
   "source": [
    "## 从图表可以看出 商店里面可以看出Everyone（所有人）这类年龄评级的最多 Adults only 18+  （成年人只有18岁以上）跟Unrated（未评级）的最少，可以看出Google商店对Adults only 18+  （成年人只有18岁以上）跟Unrated（未评级）这两类的app 限制更多"
   ]
  },
  {
   "cell_type": "markdown",
   "metadata": {},
   "source": [
    "### 问题5:最后我们来分析问题5，下载量最多、最评分最高跟付费率最高的应用是属于那个年龄评级组"
   ]
  },
  {
   "cell_type": "code",
   "execution_count": 11,
   "metadata": {},
   "outputs": [],
   "source": [
    "# 从问题1，2，3，4，我们可以发现下载量最多、最评分最高跟付费率最高的应用有 'GAME','COMMUNICATION','SOCIAL','FAMILY' 这四种，\n",
    "# 这里用 categorys数组表示下载量最多、最评分最高跟付费率最高的应用\n",
    "categorys = ['GAME','COMMUNICATION','SOCIAL','FAMILY']\n",
    "# 查询出应用类别在 categorys 范围内的app\n",
    "df_analy2=df_analy[df_analy['Category'].isin(categorys)][['App','Category','Content Rating']]"
   ]
  },
  {
   "cell_type": "code",
   "execution_count": 135,
   "metadata": {},
   "outputs": [
    {
     "data": {
      "text/html": [
       "<div>\n",
       "<style scoped>\n",
       "    .dataframe tbody tr th:only-of-type {\n",
       "        vertical-align: middle;\n",
       "    }\n",
       "\n",
       "    .dataframe tbody tr th {\n",
       "        vertical-align: top;\n",
       "    }\n",
       "\n",
       "    .dataframe thead th {\n",
       "        text-align: right;\n",
       "    }\n",
       "</style>\n",
       "<table border=\"1\" class=\"dataframe\">\n",
       "  <thead>\n",
       "    <tr style=\"text-align: right;\">\n",
       "      <th></th>\n",
       "      <th>App</th>\n",
       "      <th>Category</th>\n",
       "      <th>Content Rating</th>\n",
       "    </tr>\n",
       "  </thead>\n",
       "  <tbody>\n",
       "    <tr>\n",
       "      <th>302</th>\n",
       "      <td>Messenger – Text and Video Chat for Free</td>\n",
       "      <td>COMMUNICATION</td>\n",
       "      <td>Everyone</td>\n",
       "    </tr>\n",
       "    <tr>\n",
       "      <th>303</th>\n",
       "      <td>WhatsApp Messenger</td>\n",
       "      <td>COMMUNICATION</td>\n",
       "      <td>Everyone</td>\n",
       "    </tr>\n",
       "    <tr>\n",
       "      <th>304</th>\n",
       "      <td>Messenger for SMS</td>\n",
       "      <td>COMMUNICATION</td>\n",
       "      <td>Teen</td>\n",
       "    </tr>\n",
       "    <tr>\n",
       "      <th>305</th>\n",
       "      <td>Google Chrome: Fast &amp; Secure</td>\n",
       "      <td>COMMUNICATION</td>\n",
       "      <td>Everyone</td>\n",
       "    </tr>\n",
       "    <tr>\n",
       "      <th>306</th>\n",
       "      <td>Messenger Lite: Free Calls &amp; Messages</td>\n",
       "      <td>COMMUNICATION</td>\n",
       "      <td>Everyone</td>\n",
       "    </tr>\n",
       "    <tr>\n",
       "      <th>307</th>\n",
       "      <td>Gmail</td>\n",
       "      <td>COMMUNICATION</td>\n",
       "      <td>Everyone</td>\n",
       "    </tr>\n",
       "    <tr>\n",
       "      <th>308</th>\n",
       "      <td>Hangouts</td>\n",
       "      <td>COMMUNICATION</td>\n",
       "      <td>Everyone</td>\n",
       "    </tr>\n",
       "    <tr>\n",
       "      <th>309</th>\n",
       "      <td>Viber Messenger</td>\n",
       "      <td>COMMUNICATION</td>\n",
       "      <td>Everyone</td>\n",
       "    </tr>\n",
       "    <tr>\n",
       "      <th>310</th>\n",
       "      <td>My Tele2</td>\n",
       "      <td>COMMUNICATION</td>\n",
       "      <td>Everyone</td>\n",
       "    </tr>\n",
       "    <tr>\n",
       "      <th>311</th>\n",
       "      <td>Firefox Browser fast &amp; private</td>\n",
       "      <td>COMMUNICATION</td>\n",
       "      <td>Everyone</td>\n",
       "    </tr>\n",
       "  </tbody>\n",
       "</table>\n",
       "</div>"
      ],
      "text/plain": [
       "                                          App       Category Content Rating\n",
       "302  Messenger – Text and Video Chat for Free  COMMUNICATION       Everyone\n",
       "303                        WhatsApp Messenger  COMMUNICATION       Everyone\n",
       "304                         Messenger for SMS  COMMUNICATION           Teen\n",
       "305              Google Chrome: Fast & Secure  COMMUNICATION       Everyone\n",
       "306     Messenger Lite: Free Calls & Messages  COMMUNICATION       Everyone\n",
       "307                                     Gmail  COMMUNICATION       Everyone\n",
       "308                                  Hangouts  COMMUNICATION       Everyone\n",
       "309                           Viber Messenger  COMMUNICATION       Everyone\n",
       "310                                  My Tele2  COMMUNICATION       Everyone\n",
       "311            Firefox Browser fast & private  COMMUNICATION       Everyone"
      ]
     },
     "execution_count": 135,
     "metadata": {},
     "output_type": "execute_result"
    }
   ],
   "source": [
    "df_analy2.head(10)"
   ]
  },
  {
   "cell_type": "code",
   "execution_count": 143,
   "metadata": {},
   "outputs": [
    {
     "data": {
      "text/plain": [
       "Category       Content Rating\n",
       "COMMUNICATION  Everyone           325\n",
       "               Mature 17+          10\n",
       "               Teen                31\n",
       "FAMILY         Everyone          1501\n",
       "               Everyone 10+       130\n",
       "               Mature 17+          50\n",
       "               Teen               261\n",
       "               Unrated              1\n",
       "GAME           Everyone           595\n",
       "               Everyone 10+       128\n",
       "               Mature 17+          72\n",
       "               Teen               326\n",
       "SOCIAL         Everyone            98\n",
       "               Everyone 10+         2\n",
       "               Mature 17+          59\n",
       "               Teen               121\n",
       "Name: App, dtype: int64"
      ]
     },
     "execution_count": 143,
     "metadata": {},
     "output_type": "execute_result"
    }
   ],
   "source": [
    "# 统计不同分类跟评级的app的数量\n",
    "df_analy2.groupby(['Category','Content Rating'])['App'].count()"
   ]
  },
  {
   "cell_type": "code",
   "execution_count": 12,
   "metadata": {},
   "outputs": [
    {
     "data": {
      "text/plain": [
       "<matplotlib.axes._subplots.AxesSubplot at 0x1150e04a8>"
      ]
     },
     "execution_count": 12,
     "metadata": {},
     "output_type": "execute_result"
    },
    {
     "data": {
      "image/png": "[encoded data removed]",
      "text/plain": [
       "<Figure size 1080x1080 with 1 Axes>"
      ]
     },
     "metadata": {
      "needs_background": "light"
     },
     "output_type": "display_data"
    }
   ],
   "source": [
    "# 使用图表展示\n",
    "df_analy2.groupby(['Category','Content Rating'])['App'].count().unstack().plot(kind='bar',figsize=(15,15))"
   ]
  },
  {
   "cell_type": "code",
   "execution_count": 14,
   "metadata": {},
   "outputs": [
    {
     "data": {
      "text/plain": [
       "<matplotlib.axes._subplots.AxesSubplot at 0x11517e9b0>"
      ]
     },
     "execution_count": 14,
     "metadata": {},
     "output_type": "execute_result"
    },
    {
     "data": {
      "image/png": "[encoded data removed]",
      "text/plain": [
       "<Figure size 1080x1080 with 1 Axes>"
      ]
     },
     "metadata": {},
     "output_type": "display_data"
    }
   ],
   "source": [
    "# 使用图表展示\n",
    "df_analy2.groupby(['Category','Content Rating'])['App'].count().plot(kind='pie',figsize=(15,15))"
   ]
  },
  {
   "cell_type": "markdown",
   "metadata": {},
   "source": [
    "### 从数据可以看出 下载量最多、最评分最高跟付费率最高的应用都是年龄评级 Everyone，下面我们把Everyone评级去掉，再来看看那个年龄段的最多"
   ]
  },
  {
   "cell_type": "code",
   "execution_count": 15,
   "metadata": {},
   "outputs": [],
   "source": [
    "# 移除评级Everyone的数据\n",
    "df_analy3=df_analy2[df_analy2['Content Rating'] != 'Everyone']"
   ]
  },
  {
   "cell_type": "code",
   "execution_count": 150,
   "metadata": {},
   "outputs": [
    {
     "data": {
      "text/html": [
       "<div>\n",
       "<style scoped>\n",
       "    .dataframe tbody tr th:only-of-type {\n",
       "        vertical-align: middle;\n",
       "    }\n",
       "\n",
       "    .dataframe tbody tr th {\n",
       "        vertical-align: top;\n",
       "    }\n",
       "\n",
       "    .dataframe thead th {\n",
       "        text-align: right;\n",
       "    }\n",
       "</style>\n",
       "<table border=\"1\" class=\"dataframe\">\n",
       "  <thead>\n",
       "    <tr style=\"text-align: right;\">\n",
       "      <th></th>\n",
       "      <th>App</th>\n",
       "      <th>Category</th>\n",
       "      <th>Content Rating</th>\n",
       "    </tr>\n",
       "  </thead>\n",
       "  <tbody>\n",
       "    <tr>\n",
       "      <th>304</th>\n",
       "      <td>Messenger for SMS</td>\n",
       "      <td>COMMUNICATION</td>\n",
       "      <td>Teen</td>\n",
       "    </tr>\n",
       "    <tr>\n",
       "      <th>329</th>\n",
       "      <td>TouchPal Keyboard - Fun Emoji &amp; Android Keyboard</td>\n",
       "      <td>COMMUNICATION</td>\n",
       "      <td>Mature 17+</td>\n",
       "    </tr>\n",
       "    <tr>\n",
       "      <th>330</th>\n",
       "      <td>Who</td>\n",
       "      <td>COMMUNICATION</td>\n",
       "      <td>Teen</td>\n",
       "    </tr>\n",
       "    <tr>\n",
       "      <th>333</th>\n",
       "      <td>UC Browser Mini -Tiny Fast Private &amp; Secure</td>\n",
       "      <td>COMMUNICATION</td>\n",
       "      <td>Teen</td>\n",
       "    </tr>\n",
       "    <tr>\n",
       "      <th>337</th>\n",
       "      <td>Telegram</td>\n",
       "      <td>COMMUNICATION</td>\n",
       "      <td>Mature 17+</td>\n",
       "    </tr>\n",
       "    <tr>\n",
       "      <th>344</th>\n",
       "      <td>Omlet Chat</td>\n",
       "      <td>COMMUNICATION</td>\n",
       "      <td>Teen</td>\n",
       "    </tr>\n",
       "    <tr>\n",
       "      <th>345</th>\n",
       "      <td>UC Browser - Fast Download Private &amp; Secure</td>\n",
       "      <td>COMMUNICATION</td>\n",
       "      <td>Teen</td>\n",
       "    </tr>\n",
       "    <tr>\n",
       "      <th>358</th>\n",
       "      <td>Telegram</td>\n",
       "      <td>COMMUNICATION</td>\n",
       "      <td>Mature 17+</td>\n",
       "    </tr>\n",
       "    <tr>\n",
       "      <th>359</th>\n",
       "      <td>Who</td>\n",
       "      <td>COMMUNICATION</td>\n",
       "      <td>Teen</td>\n",
       "    </tr>\n",
       "    <tr>\n",
       "      <th>382</th>\n",
       "      <td>UC Browser Mini -Tiny Fast Private &amp; Secure</td>\n",
       "      <td>COMMUNICATION</td>\n",
       "      <td>Teen</td>\n",
       "    </tr>\n",
       "  </tbody>\n",
       "</table>\n",
       "</div>"
      ],
      "text/plain": [
       "                                                  App       Category  \\\n",
       "304                                 Messenger for SMS  COMMUNICATION   \n",
       "329  TouchPal Keyboard - Fun Emoji & Android Keyboard  COMMUNICATION   \n",
       "330                                               Who  COMMUNICATION   \n",
       "333       UC Browser Mini -Tiny Fast Private & Secure  COMMUNICATION   \n",
       "337                                          Telegram  COMMUNICATION   \n",
       "344                                        Omlet Chat  COMMUNICATION   \n",
       "345       UC Browser - Fast Download Private & Secure  COMMUNICATION   \n",
       "358                                          Telegram  COMMUNICATION   \n",
       "359                                               Who  COMMUNICATION   \n",
       "382       UC Browser Mini -Tiny Fast Private & Secure  COMMUNICATION   \n",
       "\n",
       "    Content Rating  \n",
       "304           Teen  \n",
       "329     Mature 17+  \n",
       "330           Teen  \n",
       "333           Teen  \n",
       "337     Mature 17+  \n",
       "344           Teen  \n",
       "345           Teen  \n",
       "358     Mature 17+  \n",
       "359           Teen  \n",
       "382           Teen  "
      ]
     },
     "execution_count": 150,
     "metadata": {},
     "output_type": "execute_result"
    }
   ],
   "source": [
    "df_analy3.head(10)"
   ]
  },
  {
   "cell_type": "code",
   "execution_count": 151,
   "metadata": {},
   "outputs": [
    {
     "data": {
      "text/plain": [
       "Category       Content Rating\n",
       "COMMUNICATION  Mature 17+         10\n",
       "               Teen               31\n",
       "FAMILY         Everyone 10+      130\n",
       "               Mature 17+         50\n",
       "               Teen              261\n",
       "               Unrated             1\n",
       "GAME           Everyone 10+      128\n",
       "               Mature 17+         72\n",
       "               Teen              326\n",
       "SOCIAL         Everyone 10+        2\n",
       "               Mature 17+         59\n",
       "               Teen              121\n",
       "Name: App, dtype: int64"
      ]
     },
     "execution_count": 151,
     "metadata": {},
     "output_type": "execute_result"
    }
   ],
   "source": [
    "# 统计不同分类跟评级的app的数量\n",
    "df_analy3.groupby(['Category','Content Rating'])['App'].count()"
   ]
  },
  {
   "cell_type": "code",
   "execution_count": 16,
   "metadata": {},
   "outputs": [
    {
     "data": {
      "text/plain": [
       "<matplotlib.axes._subplots.AxesSubplot at 0x115a25400>"
      ]
     },
     "execution_count": 16,
     "metadata": {},
     "output_type": "execute_result"
    },
    {
     "data": {
      "image/png": "[encoded data removed]",
      "text/plain": [
       "<Figure size 720x720 with 1 Axes>"
      ]
     },
     "metadata": {
      "needs_background": "light"
     },
     "output_type": "display_data"
    }
   ],
   "source": [
    "# 使用图表展示\n",
    "df_analy3.groupby(['Category','Content Rating'])['App'].count().unstack().plot(kind='bar',figsize=(10,10))"
   ]
  },
  {
   "cell_type": "code",
   "execution_count": 153,
   "metadata": {},
   "outputs": [
    {
     "data": {
      "text/plain": [
       "<matplotlib.axes._subplots.AxesSubplot at 0x7f1cd3c4cba8>"
      ]
     },
     "execution_count": 153,
     "metadata": {},
     "output_type": "execute_result"
    },
    {
     "data": {
      "image/png": "[encoded data removed]",
      "text/plain": [
       "<matplotlib.figure.Figure at 0x7f1cd40f1dd8>"
      ]
     },
     "metadata": {},
     "output_type": "display_data"
    }
   ],
   "source": [
    "# 使用图表展示\n",
    "df_analy3.groupby(['Category','Content Rating'])['App'].count().plot(kind='pie',figsize=(10,10))"
   ]
  },
  {
   "cell_type": "markdown",
   "metadata": {},
   "source": [
    "## 得出结论"
   ]
  },
  {
   "cell_type": "markdown",
   "metadata": {},
   "source": [
    "## 从数据可以看出 下载量最多、最评分最高跟付费率最高的应用都是年龄评级（Everyone），没有评级Adults only 18+。\n",
    "\n",
    "## 我们移除Everyone后，发现下载量最多、最评分最高跟付费率最高的应用群体是在 Teen （青少年）这个评级里面，所有可以得出app使用率，付费率最高是青少年。我们app 大部分的用户来源青少年，开发app功能要优先考虑青少年的爱好。"
   ]
  },
  {
   "cell_type": "markdown",
   "metadata": {},
   "source": [
    "**问题**：上面的分析能够回答你提出的问题？通过这些分析你能够得出哪些结论？\n",
    "\n",
    "**答案**：通过上面分析能回答我提出的问题，通过分析我得出以下结论；\n",
    "\n",
    "**结论1**：通过问题1分析可以得出 GAME（游戏）下载量最多，最受用户欢迎，COMMUNICATION （通讯）下载量第二，得出平时用户使用的app最多就是游戏类的app 跟通讯类的app。\n",
    "\n",
    "**结论2**：通过问题2分析可以得出 SOCIAL（社交）评分最高。COMMUNICATION （通讯）评分第二，从中可以看出用户比较喜爱社交类跟通讯类的app。\n",
    "\n",
    "**结论3**：通过问题3分析可以得出 FAMILY（家庭）付费率最高。可以看出对于用于家庭生活方面的app用户更愿意付费。\n",
    "\n",
    "**结论4**：通过问题4分析可以得出Everyone（所有人）这类年龄评级的最多 Adults only 18+ （成年人只有18岁以上）跟Unrated（未评级）的最少，可以看出Google商店对Adults only 18+ （成年人只有18岁以上）跟Unrated（未评级）这两类的app 限制更多。\n",
    "\n",
    "**结论5**：通过问题5分析下载量最多、最评分最高跟付费率最高的应用都有（'GAME','COMMUNICATION','SOCIAL','FAMILY' 这几类），年龄评级大部分在（Everyone），没有评级Adults only 18+。\n",
    "          我们移除Everyone后，发现下载量最多、最评分最高跟付费率最高的应用群体是在 Teen （青少年）这个评级里面，所有可以得出app使用率，付费率最高是青少年。我们app 大部分的用户来源青少年，开发app功能要优先考虑青少年的爱好。"
   ]
  },
  {
   "cell_type": "markdown",
   "metadata": {},
   "source": [
    "## 反思"
   ]
  },
  {
   "cell_type": "markdown",
   "metadata": {},
   "source": [
    "**问题**：在你的分析和总结过程中是否存在逻辑严谨。是否有改进的空间? 你可以从下面的一些角度进行思考：\n",
    "1. 数据集是否完整，包含所有想要分析的数据？\n",
    "2. 在对数据进行处理的时候，你的操作（例如删除/填充缺失值）是否可能影响结论？\n",
    "3. 是否还有其他变量（本数据中没有）能够对你的分析有帮助？\n",
    "4. 在得出结论时，你是否混淆了相关性和因果性？\n",
    "\n",
    "**答案**：在我的分析和总结过程中，一开始我是先从app下载量，到评分最高，到app付费率来进行一步一步分析的，分析完问题4后，我得出下载量最多、最评分最高跟付费率最高的应用有那几大类型应用，后面我思考app下载量，评分最高还有app付费率跟用户有什么关联呢，为什么用户偏向于使用这些类型的app，使用这些应用的用户大部分是在哪些群体里面呢？所以后面才有问题5的提问跟分析。在整个分析的过程中我发现的问题有以下几方面：\n",
    "\n",
    "**1**：分析过程中，我发现数据非常不完整，有数据缺失，还有重复的数据，还有字段的类型定义不准备，不利于统计，比如下载量（Installs）字段在原数据结构里面是object 字符串类型，下载量应该为数值类型，后面还发现有个别数据出现，数据错乱的问题，数据插入到错误的字段里面；针对这些数据问题，我逐一清洗修正过来，得到我想要分析的数据；\n",
    "\n",
    "**2**：在数据处理中，数据缺失我使用平均值，来填充，因为数据缺失的数目不多，所以这些操作对结论影响不大；\n",
    "\n",
    "**3**：有变量对我分析没有帮助，比如size，应用大小没有用到；\n",
    "\n",
    "**4**：没有混淆了相关性和因果性，我是从问题1，2，3 牵连到最后问题5进行分析的，在得出结论时，我先通过分析app下载量最多，到评分最高，然后在分析app付费率，然后再根据app下载量最多，评分，app付费率这几个问题，来分析这些app分布的主要群体有哪些。"
   ]
  },
  {
   "cell_type": "markdown",
   "metadata": {},
   "source": [
    "恭喜你完成了此项目！这只是数据分析过程的一个样本：从生成问题、整理数据、探索数据到得出结论。在数据分析(进阶)纳米学位中，你将会学到更多高级的数据分析方法和技术，如果你感兴趣的话，我们鼓励你继续学习后续的课程，掌握更多的数据分析的高级技能！"
   ]
  },
  {
   "cell_type": "markdown",
   "metadata": {},
   "source": [
    "> 若想与他人分享我们的分析结果，除了向他们提供 jupyter Notebook (.ipynb) 文件的副本外，我们还可以将 Notebook 输出导出为一种甚至那些未安装 Python 的人都能打开的形式。从左上方的“文件”菜单，前往“下载为”子菜单。然后你可以选择一个可以更普遍查看的格式，例如 HTML (.html) 。你可能需要额外软件包或软件来执行这些导出。"
   ]
  },
  {
   "cell_type": "code",
   "execution_count": null,
   "metadata": {
    "collapsed": true
   },
   "outputs": [],
   "source": []
  }
 ],
 "metadata": {
  "kernelspec": {
   "display_name": "Python 3",
   "language": "python",
   "name": "python3"
  },
  "language_info": {
   "codemirror_mode": {
    "name": "ipython",
    "version": 3
   },
   "file_extension": ".py",
   "mimetype": "text/x-python",
   "name": "python",
   "nbconvert_exporter": "python",
   "pygments_lexer": "ipython3",
   "version": "3.6.8"
  }
 },
 "nbformat": 4,
 "nbformat_minor": 2
}
