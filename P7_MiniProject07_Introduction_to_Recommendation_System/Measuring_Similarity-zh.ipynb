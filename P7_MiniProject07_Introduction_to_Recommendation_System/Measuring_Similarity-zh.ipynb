{
 "cells": [
  {
   "cell_type": "markdown",
   "metadata": {},
   "source": [
    "### 如何找到近邻？\n",
    "\n",
    "在基于近邻的协同过滤中，能够识别个体的邻近项很重要。我们来看一个小数据集，学习如何使用不同的指标识别这些邻近项。"
   ]
  },
  {
   "cell_type": "code",
   "execution_count": 7,
   "metadata": {
    "ExecuteTime": {
     "end_time": "2020-02-25T12:57:32.136158Z",
     "start_time": "2020-02-25T12:57:32.123703Z"
    }
   },
   "outputs": [],
   "source": [
    "import numpy as np\n",
    "import pandas as pd\n",
    "from scipy.stats import spearmanr, kendalltau\n",
    "import matplotlib.pyplot as plt\n",
    "import tests as t\n",
    "import helper as h\n",
    "%matplotlib inline\n",
    "\n",
    "play_data = pd.DataFrame({'x1': [-3, -2, -1, 0, 1, 2, 3], \n",
    "               'x2': [9, 4, 1, 0, 1, 4, 9],\n",
    "               'x3': [1, 2, 3, 4, 5, 6, 7],\n",
    "               'x4': [2, 5, 15, 27, 28, 30, 31]\n",
    "})\n",
    "\n",
    "#create play data dataframe\n",
    "play_data = play_data[['x1', 'x2', 'x3', 'x4']]"
   ]
  },
  {
   "cell_type": "markdown",
   "metadata": {},
   "source": [
    "### 衡量相似性\n",
    "\n",
    "我们将学习的第一组指标具有相似的特征：\n",
    "\n",
    "1.皮尔逊相关系数\n",
    "2.斯皮尔曼相关系数\n",
    "3.Kendall's Tau 相关系数\n",
    "\n",
    "我们深入了解下每个指标。\n",
    "\n",
    "### 皮尔逊相关系数\n",
    "\n",
    "首先，**皮尔逊相关系数**衡量的是**线性关系**的强度和方向。  \n",
    "\n",
    "假设有两个向量 x 和 y，我们可以按照以下方式比较它们的每个元素，从而计算皮尔逊相关系数：\n",
    "\n",
    "\n",
    "$$CORR(\\textbf{x}, \\textbf{y}) = \\frac{\\sum\\limits_{i=1}^{n}(x_i - \\bar{x})(y_i - \\bar{y})}{\\sqrt{\\sum\\limits_{i=1}^{n}(x_i-\\bar{x})^2}\\sqrt{\\sum\\limits_{i=1}^{n}(y_i-\\bar{y})^2}} $$\n",
    "\n",
    "其中 \n",
    "\n",
    "$$\\bar{x} = \\frac{1}{n}\\sum\\limits_{i=1}^{n}x_i$$\n",
    "\n",
    "1.编写一个函数，它将接受两个向量，并返回皮尔逊相关系数。然后，你可以在以下单元格中使用断言语句，将你的答案与 NumPy 的内置函数进行比较。"
   ]
  },
  {
   "cell_type": "code",
   "execution_count": 42,
   "metadata": {
    "ExecuteTime": {
     "end_time": "2020-02-25T13:34:05.052225Z",
     "start_time": "2020-02-25T13:34:05.047239Z"
    }
   },
   "outputs": [],
   "source": [
    "def pearson_corr(x, y):\n",
    "    '''\n",
    "    INPUT\n",
    "    x - an array of matching length to array y\n",
    "    y - an array of matching length to array x\n",
    "    OUTPUT\n",
    "    corr - the pearson correlation coefficient for comparing x and y\n",
    "    '''\n",
    "    avg_x = x.mean() \n",
    "    avg_y = y.mean()\n",
    "    num = ((x - avg_x) * (y - avg_y)).sum()\n",
    "#     print(num)\n",
    "    den = np.sqrt(((x - avg_x)**2).sum()) * np.sqrt(((y - avg_y)**2).sum())\n",
    "#     print(den)\n",
    "    corr = num / den\n",
    "                 \n",
    "    return corr                    "
   ]
  },
  {
   "cell_type": "code",
   "execution_count": 43,
   "metadata": {
    "ExecuteTime": {
     "end_time": "2020-02-25T13:34:09.716472Z",
     "start_time": "2020-02-25T13:34:09.704505Z"
    }
   },
   "outputs": [
    {
     "name": "stdout",
     "output_type": "stream",
     "text": [
      "If this is all you see, it looks like you are all set!  Nice job coding up Pearson's correlation coefficient!\n"
     ]
    }
   ],
   "source": [
    "# This cell will test your function against the built in numpy function\n",
    "assert pearson_corr(play_data['x1'], play_data['x2']) == np.corrcoef(play_data['x1'], play_data['x2'])[0][1], 'Oops!  The correlation between the first two columns should be 0, but your function returned {}.'.format(pearson_corr(play_data['x1'], play_data['x2']))\n",
    "assert round(pearson_corr(play_data['x1'], play_data['x3']), 2) == np.corrcoef(play_data['x1'], play_data['x3'])[0][1], 'Oops!  The correlation between the first and third columns should be {}, but your function returned {}.'.format(np.corrcoef(play_data['x1'], play_data['x3'])[0][1], pearson_corr(play_data['x1'], play_data['x3']))\n",
    "assert round(pearson_corr(play_data['x3'], play_data['x4']), 2) == round(np.corrcoef(play_data['x3'], play_data['x4'])[0][1], 2), 'Oops!  The correlation between the third and forth columns should be {}, but your function returned {}.'.format(np.corrcoef(play_data['x3'], play_data['x4'])[0][1], pearson_corr(play_data['x3'], play_data['x4']))\n",
    "print(\"If this is all you see, it looks like you are all set!  Nice job coding up Pearson's correlation coefficient!\")\n"
   ]
  },
  {
   "cell_type": "markdown",
   "metadata": {},
   "source": [
    "`2.` 计算了**皮尔逊相关系数**后，请使用以下字典判断关于**这种**衡量指标的哪些语句表述正确。"
   ]
  },
  {
   "cell_type": "code",
   "execution_count": 48,
   "metadata": {
    "ExecuteTime": {
     "end_time": "2020-02-25T13:36:28.793001Z",
     "start_time": "2020-02-25T13:36:28.788014Z"
    }
   },
   "outputs": [
    {
     "name": "stdout",
     "output_type": "stream",
     "text": [
      "That's right!  Pearson's correlation relates to a linear relationship.  The second and third cases are examples of perfect linear relationships, where we would receive values of 1 and -1.  Only having an increase or decrease that are directly related will not lead to a Pearson's correlation coefficient of 1 or -1.  You can see this by testing out your function using the examples above without using assert statements.\n"
     ]
    }
   ],
   "source": [
    "a = True\n",
    "b = False\n",
    "c = \"We can't be sure.\"\n",
    "\n",
    "\n",
    "pearson_dct = {\"If when x increases, y always increases, Pearson's correlation will be always be 1.\": b,\n",
    "               \"If when x increases by 1, y always increases by 3, Pearson's correlation will always be 1.\": a,\n",
    "               \"If when x increases by 1, y always decreases by 5, Pearson's correlation will always be -1.\": a,\n",
    "               \"If when x increases by 1, y increases by 3 times x, Pearson's correlation will always be 1.\": b\n",
    "}\n",
    "\n",
    "t.sim_2_sol(pearson_dct)"
   ]
  },
  {
   "cell_type": "markdown",
   "metadata": {},
   "source": [
    "### 斯皮尔曼相关系数\n",
    "\n",
    "下面我们来看看**斯皮尔曼相关系数**。斯皮尔曼相关系数称之为[非参数](https://en.wikipedia.org/wiki/Nonparametric_statistics)统计量，它的分布不取决于参数。（遵守正态分布或二项分布的统计量属于参数统计量。）  \n",
    "\n",
    "通常，非参数统计量基于数据的排名，而不是原始值。斯皮尔曼相关系数就属于这种情况，它的计算方式与皮尔逊相关系数的差不多。但是，我们将使用每个值的排名值，而不是原始值。\n",
    "\n",
    "我们可以使用 **.rank()** 方法快速从原始值更改成排名值，如下所示："
   ]
  },
  {
   "cell_type": "code",
   "execution_count": 49,
   "metadata": {
    "ExecuteTime": {
     "end_time": "2020-02-25T13:36:47.257193Z",
     "start_time": "2020-02-25T13:36:47.248217Z"
    }
   },
   "outputs": [
    {
     "name": "stdout",
     "output_type": "stream",
     "text": [
      "The ranked values for the variable x1 are: [1. 2. 3. 4. 5. 6. 7.]\n",
      "The raw data values for the variable x1 are: [-3 -2 -1  0  1  2  3]\n"
     ]
    }
   ],
   "source": [
    "print(\"The ranked values for the variable x1 are: {}\".format(np.array(play_data['x1'].rank())))\n",
    "print(\"The raw data values for the variable x1 are: {}\".format(np.array(play_data['x1'])))"
   ]
  },
  {
   "cell_type": "markdown",
   "metadata": {},
   "source": [
    "如果我们将每个数据映射到排名数据值，如上所示：\n",
    "\n",
    "$$\\textbf{x} \\rightarrow \\textbf{x}^{r}$$\n",
    "$$\\textbf{y} \\rightarrow \\textbf{y}^{r}$$\n",
    "\n",
    "其中，**r** 表示它们是排名值（并不是 r 次幂）。斯皮尔曼相关系数的计算公式为：\n",
    "\n",
    "$$SCORR(\\textbf{x}, \\textbf{y}) = \\frac{\\sum\\limits_{i=1}^{n}(x^{r}_i - \\bar{x}^{r})(y^{r}_i - \\bar{y}^{r})}{\\sqrt{\\sum\\limits_{i=1}^{n}(x^{r}_i-\\bar{x}^{r})^2}\\sqrt{\\sum\\limits_{i=1}^{n}(y^{r}_i-\\bar{y}^{r})^2}} $$\n",
    "\n",
    "其中 \n",
    "\n",
    "$$\\bar{x}^r = \\frac{1}{n}\\sum\\limits_{i=1}^{n}x^r_i$$\n",
    "\n",
    "`3.` 编写一个函数，它将接受两个向量，并返回斯皮尔曼相关系数。然后，你可以在以下单元格中使用断言语句，将你的答案与 scipy 统计语言的内置函数进行比较。"
   ]
  },
  {
   "cell_type": "code",
   "execution_count": 56,
   "metadata": {
    "ExecuteTime": {
     "end_time": "2020-02-25T13:42:11.484039Z",
     "start_time": "2020-02-25T13:42:11.478056Z"
    }
   },
   "outputs": [],
   "source": [
    "def corr_spearman(x, y):\n",
    "    '''\n",
    "    INPUT\n",
    "    x - an array of matching length to array y\n",
    "    y - an array of matching length to array x\n",
    "    OUTPUT\n",
    "    corr - the spearman correlation coefficient for comparing x and y\n",
    "    '''\n",
    "    x_rank = np.array(x.rank())\n",
    "    y_rank = np.array(y.rank())\n",
    "    avg_x = x_rank.mean()\n",
    "    avg_y = y_rank.mean()\n",
    "    num = ((x_rank - avg_x) * (y_rank - avg_y)).sum()\n",
    "    den = np.sqrt(((x_rank - avg_x) ** 2).sum()) * np.sqrt(((y_rank - avg_y) ** 2).sum())\n",
    "    corr = num / den\n",
    "                    \n",
    "    return corr  "
   ]
  },
  {
   "cell_type": "code",
   "execution_count": 57,
   "metadata": {
    "ExecuteTime": {
     "end_time": "2020-02-25T13:42:12.615729Z",
     "start_time": "2020-02-25T13:42:12.600778Z"
    }
   },
   "outputs": [
    {
     "name": "stdout",
     "output_type": "stream",
     "text": [
      "If this is all you see, it looks like you are all set!  Nice job coding up Spearman's correlation coefficient!\n"
     ]
    }
   ],
   "source": [
    "# This cell will test your function against the built in scipy function\n",
    "assert corr_spearman(play_data['x1'], play_data['x2']) == spearmanr(play_data['x1'], play_data['x2'])[0], 'Oops!  The correlation between the first two columns should be 0, but your function returned {}.'.format(compute_corr(play_data['x1'], play_data['x2']))\n",
    "assert round(corr_spearman(play_data['x1'], play_data['x3']), 2) == spearmanr(play_data['x1'], play_data['x3'])[0], 'Oops!  The correlation between the first and third columns should be {}, but your function returned {}.'.format(np.corrcoef(play_data['x1'], play_data['x3'])[0][1], compute_corr(play_data['x1'], play_data['x3']))\n",
    "assert round(corr_spearman(play_data['x3'], play_data['x4']), 2) == round(spearmanr(play_data['x3'], play_data['x4'])[0], 2), 'Oops!  The correlation between the first and third columns should be {}, but your function returned {}.'.format(np.corrcoef(play_data['x3'], play_data['x4'])[0][1], compute_corr(play_data['x3'], play_data['x4']))\n",
    "print(\"If this is all you see, it looks like you are all set!  Nice job coding up Spearman's correlation coefficient!\")\n"
   ]
  },
  {
   "cell_type": "markdown",
   "metadata": {},
   "source": [
    "`4.` 计算了**斯皮尔曼相关系数**后，请使用以下字典判断关于**这种**衡量指标的哪些语句表述正确。"
   ]
  },
  {
   "cell_type": "code",
   "execution_count": 59,
   "metadata": {
    "ExecuteTime": {
     "end_time": "2020-02-25T13:44:47.901202Z",
     "start_time": "2020-02-25T13:44:47.897536Z"
    }
   },
   "outputs": [
    {
     "name": "stdout",
     "output_type": "stream",
     "text": [
      "That's right!  Unlike Pearson's correlation, Spearman's correlation can have perfect relationships (1 or -1 values) that aren't linear relationships.  You will notice that neither Spearman or Pearson correlation values suggest a relation when there are quadratic relationships.\n"
     ]
    }
   ],
   "source": [
    "a = True\n",
    "b = False\n",
    "c = \"We can't be sure.\"\n",
    "\n",
    "\n",
    "spearman_dct = {\"If when x increases, y always increases, Spearman's correlation will be always be 1.\": a,\n",
    "               \"If when x increases by 1, y always increases by 3, Pearson's correlation will always be 1.\": a,\n",
    "               \"If when x increases by 1, y always decreases by 5, Pearson's correlation will always be -1.\": a,\n",
    "               \"If when x increases by 1, y increases by 3 times x, Pearson's correlation will always be 1.\": a\n",
    "}\n",
    "\n",
    "t.sim_4_sol(spearman_dct)"
   ]
  },
  {
   "cell_type": "markdown",
   "metadata": {},
   "source": [
    "### Kendall's Tau 相关系数\n",
    "\n",
    "Kendall's tau 相关系数与斯皮尔曼相关系数很相似。这两种衡量方法都是非参数关系衡量方法。具体而言，斯皮尔曼相关系数和 Kendall's tau 相关系数都基于排名数据，而不是原始数据。  \n",
    "\n",
    "与前面的两种衡量方法相似，Kendall's Tau 的值始终位于 -1-1 之间，其中 -1 表示两个变量之间有很强的负相关关系，1 表示两个变量之间有很强的正相关关系。\n",
    "\n",
    "虽然斯皮尔曼相关系数与 Kendall's Tau 很相似，但是 Kendall's Tau 在统计学上的优势更大，因为在使用更大的样本量时，Kendall's Tau 的变化性更小。不过，斯皮尔曼衡量方法计算效率更高，因为 Kendall's Tau 为 O(n^2)，而斯皮尔曼相关系数为 O(nLog(n))。你可以在[此话题](https://www.researchgate.net/post/Does_Spearmans_rho_have_any_advantage_over_Kendalls_tau)下了解更多信息。\n",
    "\n",
    "我们来看看如何计算该系数。同样，需要将数据映射到排名值：\n",
    "\n",
    "$$\\textbf{x} \\rightarrow \\textbf{x}^{r}$$\n",
    "$$\\textbf{y} \\rightarrow \\textbf{y}^{r}$$\n",
    "\n",
    "然后按照以下公式计算 Kendall's Tau 系数：\n",
    "\n",
    "$$TAU(\\textbf{x}, \\textbf{y}) = \\frac{2}{n(n -1)}\\sum_{i < j}sgn(x^r_i - x^r_j)sgn(y^r_i - y^r_j)$$\n",
    "\n",
    "其中 $sgn$ 会获取排名值之差的符号。以下部分 \n",
    "\n",
    "$$sgn(x^r_i - x^r_j)$$ \n",
    "\n",
    "还可以改写成：\n",
    "\n",
    "$$\n",
    " \\begin{cases} \n",
    "      -1  & x^r_i < x^r_j \\\\\n",
    "      0 & x^r_i = x^r_j \\\\\n",
    "      1 & x^r_i > x^r_j \n",
    "   \\end{cases}\n",
    "$$\n",
    "\n",
    "所以以下部分的可能值 \n",
    "\n",
    "$$sgn(x^r_i - x^r_j)sgn(y^r_i - y^r_j)$$\n",
    "\n",
    "只能是 1、-1 或 0，可以告诉我们 **x** 和 **y** 的排名值朝着右侧方向的次数所占的比例。\n",
    "\n",
    "`5.` 编写一个函数，它将接受两个向量，并返回斯皮尔曼相关系数。然后，你可以在以下单元格中使用断言语句，将你的答案与 scipy 统计语言的内置函数进行比较。"
   ]
  },
  {
   "cell_type": "code",
   "execution_count": 79,
   "metadata": {
    "ExecuteTime": {
     "end_time": "2020-02-25T14:42:36.824762Z",
     "start_time": "2020-02-25T14:42:36.818167Z"
    }
   },
   "outputs": [],
   "source": [
    "def sgn(x, y):\n",
    "    if x < y:\n",
    "        return -1 \n",
    "    elif x > y:\n",
    "        return 1 \n",
    "    else:\n",
    "        return 0\n",
    "\n",
    "def kendalls_tau(x, y):\n",
    "    '''\n",
    "    INPUT\n",
    "    x - an array of matching length to array y\n",
    "    y - an array of matching length to array x\n",
    "    OUTPUT\n",
    "    tau - the kendall's tau for comparing x and y\n",
    "    '''    \n",
    "    x_r = np.array(x.rank())\n",
    "    y_r = np.array(y.rank())\n",
    "    n = len(x_r)\n",
    "    tau = 0\n",
    "    for i in range(n):\n",
    "        for j in range(i+1, n, 1):\n",
    "#             print(i, j)\n",
    "            tau += sgn(x_r[i], x_r[j]) * sgn(y_r[i], y_r[j])\n",
    "    tau = tau * 2 / (n * (n - 1))\n",
    "\n",
    "    return tau"
   ]
  },
  {
   "cell_type": "code",
   "execution_count": 80,
   "metadata": {
    "ExecuteTime": {
     "end_time": "2020-02-25T14:42:41.607482Z",
     "start_time": "2020-02-25T14:42:41.593966Z"
    }
   },
   "outputs": [
    {
     "name": "stdout",
     "output_type": "stream",
     "text": [
      "If this is all you see, it looks like you are all set!  Nice job coding up Kendall's Tau!\n"
     ]
    }
   ],
   "source": [
    "# This cell will test your function against the built in scipy function\n",
    "assert kendalls_tau(play_data['x1'], play_data['x2']) == kendalltau(play_data['x1'], play_data['x2'])[0], 'Oops!  The correlation between the first two columns should be 0, but your function returned {}.'.format(kendalls_tau(play_data['x1'], play_data['x2']))\n",
    "assert round(kendalls_tau(play_data['x1'], play_data['x3']), 2) == kendalltau(play_data['x1'], play_data['x3'])[0], 'Oops!  The correlation between the first and third columns should be {}, but your function returned {}.'.format(kendalltau(play_data['x1'], play_data['x3'])[0], kendalls_tau(play_data['x1'], play_data['x3']))\n",
    "assert round(kendalls_tau(play_data['x3'], play_data['x4']), 2) == round(kendalltau(play_data['x3'], play_data['x4'])[0], 2), 'Oops!  The correlation between the third and forth columns should be {}, but your function returned {}.'.format(kendalltau(play_data['x3'], play_data['x4'])[0], kendalls_tau(play_data['x3'], play_data['x4']))\n",
    "print(\"If this is all you see, it looks like you are all set!  Nice job coding up Kendall's Tau!\")\n"
   ]
  },
  {
   "cell_type": "code",
   "execution_count": 81,
   "metadata": {
    "ExecuteTime": {
     "end_time": "2020-02-25T14:43:13.668708Z",
     "start_time": "2020-02-25T14:43:13.656729Z"
    }
   },
   "outputs": [
    {
     "data": {
      "text/html": [
       "<div>\n",
       "<style scoped>\n",
       "    .dataframe tbody tr th:only-of-type {\n",
       "        vertical-align: middle;\n",
       "    }\n",
       "\n",
       "    .dataframe tbody tr th {\n",
       "        vertical-align: top;\n",
       "    }\n",
       "\n",
       "    .dataframe thead th {\n",
       "        text-align: right;\n",
       "    }\n",
       "</style>\n",
       "<table border=\"1\" class=\"dataframe\">\n",
       "  <thead>\n",
       "    <tr style=\"text-align: right;\">\n",
       "      <th></th>\n",
       "      <th>x1</th>\n",
       "      <th>x2</th>\n",
       "      <th>x3</th>\n",
       "      <th>x4</th>\n",
       "    </tr>\n",
       "  </thead>\n",
       "  <tbody>\n",
       "    <tr>\n",
       "      <th>0</th>\n",
       "      <td>-3</td>\n",
       "      <td>9</td>\n",
       "      <td>1</td>\n",
       "      <td>2</td>\n",
       "    </tr>\n",
       "    <tr>\n",
       "      <th>1</th>\n",
       "      <td>-2</td>\n",
       "      <td>4</td>\n",
       "      <td>2</td>\n",
       "      <td>5</td>\n",
       "    </tr>\n",
       "    <tr>\n",
       "      <th>2</th>\n",
       "      <td>-1</td>\n",
       "      <td>1</td>\n",
       "      <td>3</td>\n",
       "      <td>15</td>\n",
       "    </tr>\n",
       "    <tr>\n",
       "      <th>3</th>\n",
       "      <td>0</td>\n",
       "      <td>0</td>\n",
       "      <td>4</td>\n",
       "      <td>27</td>\n",
       "    </tr>\n",
       "    <tr>\n",
       "      <th>4</th>\n",
       "      <td>1</td>\n",
       "      <td>1</td>\n",
       "      <td>5</td>\n",
       "      <td>28</td>\n",
       "    </tr>\n",
       "    <tr>\n",
       "      <th>5</th>\n",
       "      <td>2</td>\n",
       "      <td>4</td>\n",
       "      <td>6</td>\n",
       "      <td>30</td>\n",
       "    </tr>\n",
       "    <tr>\n",
       "      <th>6</th>\n",
       "      <td>3</td>\n",
       "      <td>9</td>\n",
       "      <td>7</td>\n",
       "      <td>31</td>\n",
       "    </tr>\n",
       "  </tbody>\n",
       "</table>\n",
       "</div>"
      ],
      "text/plain": [
       "   x1  x2  x3  x4\n",
       "0  -3   9   1   2\n",
       "1  -2   4   2   5\n",
       "2  -1   1   3  15\n",
       "3   0   0   4  27\n",
       "4   1   1   5  28\n",
       "5   2   4   6  30\n",
       "6   3   9   7  31"
      ]
     },
     "execution_count": 81,
     "metadata": {},
     "output_type": "execute_result"
    }
   ],
   "source": [
    "play_data"
   ]
  },
  {
   "cell_type": "code",
   "execution_count": 84,
   "metadata": {
    "ExecuteTime": {
     "end_time": "2020-02-25T14:44:07.629237Z",
     "start_time": "2020-02-25T14:44:07.621231Z"
    }
   },
   "outputs": [
    {
     "data": {
      "text/plain": [
       "1.0"
      ]
     },
     "execution_count": 84,
     "metadata": {},
     "output_type": "execute_result"
    }
   ],
   "source": [
    "kendalls_tau(play_data['x1'], play_data['x4'])"
   ]
  },
  {
   "cell_type": "markdown",
   "metadata": {},
   "source": [
    "`6.` 请根据你的函数（和/或对上述每个系数的理解）准确判断以下每个语句是否正确。**注意：**数据存储方式可能会导致四舍五入的结果不一样，所以建议比较小数位不超过 4 位的数值。"
   ]
  },
  {
   "cell_type": "code",
   "execution_count": 85,
   "metadata": {
    "ExecuteTime": {
     "end_time": "2020-02-25T14:45:36.297676Z",
     "start_time": "2020-02-25T14:45:36.291572Z"
    }
   },
   "outputs": [
    {
     "name": "stdout",
     "output_type": "stream",
     "text": [
      "That's right!  Pearson does not match the other two measures, as it looks specifically for linear relationships.  However, Spearman and Kenall's measures are exactly the same to one another in the cases related to play_data.\n"
     ]
    }
   ],
   "source": [
    "a = True\n",
    "b = False\n",
    "c = \"We can't be sure.\"\n",
    "\n",
    "\n",
    "corr_comp_dct = {\"For all columns of play_data, Spearman and Kendall's measures match.\": a,\n",
    "                \"For all columns of play_data, Spearman and Pearson's measures match.\": b, \n",
    "                \"For all columns of play_data, Pearson and Kendall's measures match.\": b\n",
    "}\n",
    "\n",
    "t.sim_6_sol(corr_comp_dct)"
   ]
  },
  {
   "cell_type": "markdown",
   "metadata": {},
   "source": [
    "### 衡量距离\n",
    "\n",
    "所有上述方法都是相关性衡量方法。同样，还有一些距离衡量方法（其实有很多）。[这篇文章](http://dataaspirant.com/2015/04/11/five-most-popular-similarity-measures-implementation-in-python/)很精彩，介绍了一些热门的距离指标。在此 notebook 中，我们将学习两种衡量方法。  \n",
    "\n",
    "1.欧几里得距离\n",
    "2.曼哈坦距离\n",
    "\n",
    "与刚刚为它们创建函数的三种衡量方法不同，这两种衡量方法的值范围是 0 到无穷大。值接近 0 表示两个向量更相似。值越大，两个向量之间越不相似。\n",
    "\n",
    "我们通常会出于个人喜好、听众以及数据特性选择这两种 `distance` 指标或上述三个 `similarity` 指标。稍后你将了解一种情形，其中欧几里得距离或曼哈坦距离比皮尔逊相关系数更合适。\n",
    "\n",
    "### 欧几里得距离\n",
    "\n",
    "欧几里得距离还可以看做两个向量之间的直线距离。\n",
    "\n",
    "对于两个向量 **x** 和 **y**，计算公式如下所示：\n",
    "\n",
    "$$ EUC(\\textbf{x}, \\textbf{y}) = \\sqrt{\\sum\\limits_{i=1}^{n}(x_i - y_i)^2}$$\n",
    "\n",
    "### 曼哈坦距离\n",
    "\n",
    "与欧几里得距离不同，曼哈坦距离表示一个向量与另一个之间的“曼哈顿街区”距离。所以，计算的是两个点之间的距离，但是不能穿过建筑。\n",
    "\n",
    "该距离的计算公式为：\n",
    "\n",
    "$$ MANHATTAN(\\textbf{x}, \\textbf{y}) = {\\sum\\limits_{i=1}^{n}|x_i - y_i|}$$\n",
    "\n",
    "请使用上述每个公式为每个衡量方法编写一个函数，该函数将接受两个向量，并返回欧几里得距离和曼哈坦距离。\n",
    "\n",
    "\n",
    "<img src=\"images/distances.png\">\n",
    "\n",
    "从上图中可以看到，**蓝色**线条表示两点之间的**曼哈坦**距离，而**绿色**线条表示两点之间的**欧几里得**距离**。\n",
    "\n",
    "`7.` 请在以下单元格中完成每个距离指标的函数。然后在以下单元格中对照内置值测试你的函数。"
   ]
  },
  {
   "cell_type": "code",
   "execution_count": 96,
   "metadata": {
    "ExecuteTime": {
     "end_time": "2020-02-26T13:25:47.978057Z",
     "start_time": "2020-02-26T13:25:47.973073Z"
    }
   },
   "outputs": [],
   "source": [
    "def eucl_dist(x, y):\n",
    "    '''\n",
    "    INPUT\n",
    "    x - an array of matching length to array y\n",
    "    y - an array of matching length to array x\n",
    "    OUTPUT\n",
    "    euc - the euclidean distance between x and y\n",
    "    '''  \n",
    "    rst = np.sqrt(np.sum((x - y) ** 2))\n",
    "    return rst\n",
    "    \n",
    "    \n",
    "def manhat_dist(x, y):\n",
    "    '''\n",
    "    INPUT\n",
    "    x - an array of matching length to array y\n",
    "    y - an array of matching length to array x\n",
    "    OUTPUT\n",
    "    manhat - the manhattan distance between x and y\n",
    "    '''\n",
    "    rst = np.sum(np.abs(x - y))\n",
    "    return rst\n"
   ]
  },
  {
   "cell_type": "code",
   "execution_count": 98,
   "metadata": {
    "ExecuteTime": {
     "end_time": "2020-02-26T13:26:05.820478Z",
     "start_time": "2020-02-26T13:26:05.812499Z"
    }
   },
   "outputs": [],
   "source": [
    "# Test your functions\n",
    "assert h.test_eucl(play_data['x1'], play_data['x2']) == eucl_dist(play_data['x1'], play_data['x2'])\n",
    "assert h.test_eucl(play_data['x2'], play_data['x3']) == eucl_dist(play_data['x2'], play_data['x3'])\n",
    "assert h.test_manhat(play_data['x1'], play_data['x2']) == manhat_dist(play_data['x1'], play_data['x2'])\n",
    "assert h.test_manhat(play_data['x2'], play_data['x3']) == manhat_dist(play_data['x2'], play_data['x3'])\n"
   ]
  },
  {
   "cell_type": "markdown",
   "metadata": {},
   "source": [
    "### 最后注意事项\n",
    "\n",
    "需要注意的是，在使用本 notebook 上方介绍的三个指标衡量时，两个向量可能比较相似，但是使用后面的两个指标衡量后，二者却差别很大。重申一遍，我们需要根据具体情形判断所选的指标是否合适。"
   ]
  },
  {
   "cell_type": "markdown",
   "metadata": {},
   "source": [
    "```python\n",
    "\n",
    "```"
   ]
  }
 ],
 "metadata": {
  "kernelspec": {
   "display_name": "Python 3",
   "language": "python",
   "name": "python3"
  },
  "language_info": {
   "codemirror_mode": {
    "name": "ipython",
    "version": 3
   },
   "file_extension": ".py",
   "mimetype": "text/x-python",
   "name": "python",
   "nbconvert_exporter": "python",
   "pygments_lexer": "ipython3",
   "version": "3.6.8"
  }
 },
 "nbformat": 4,
 "nbformat_minor": 2
}
