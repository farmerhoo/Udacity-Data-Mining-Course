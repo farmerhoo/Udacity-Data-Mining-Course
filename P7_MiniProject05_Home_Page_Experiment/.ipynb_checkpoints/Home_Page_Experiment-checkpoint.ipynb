{
 "cells": [
  {
   "cell_type": "markdown",
   "metadata": {},
   "source": [
    "# 网站首页对下载量和购买量影响研究\n",
    "\n",
    "根据cookie将用户随机分配到实验组和对照组：\n",
    "- 对照组：首页不做调整，记录网页的每日用户数量、下载量和购买量\n",
    "- 实验组：首页突出显示7天试用期，记录网页的每日用户数量、下载量和购买量"
   ]
  },
  {
   "cell_type": "markdown",
   "metadata": {},
   "source": [
    "## 1. 读取数据\n",
    "\n",
    "读取实验数据，并初步查看数据"
   ]
  },
  {
   "cell_type": "code",
   "execution_count": 1,
   "metadata": {
    "ExecuteTime": {
     "end_time": "2020-02-17T00:11:35.295354Z",
     "start_time": "2020-02-17T00:11:33.699005Z"
    }
   },
   "outputs": [
    {
     "name": "stdout",
     "output_type": "stream",
     "text": [
      "数据大小： (29, 7)\n"
     ]
    },
    {
     "data": {
      "text/html": [
       "<div>\n",
       "<style scoped>\n",
       "    .dataframe tbody tr th:only-of-type {\n",
       "        vertical-align: middle;\n",
       "    }\n",
       "\n",
       "    .dataframe tbody tr th {\n",
       "        vertical-align: top;\n",
       "    }\n",
       "\n",
       "    .dataframe thead th {\n",
       "        text-align: right;\n",
       "    }\n",
       "</style>\n",
       "<table border=\"1\" class=\"dataframe\">\n",
       "  <thead>\n",
       "    <tr style=\"text-align: right;\">\n",
       "      <th></th>\n",
       "      <th>Day</th>\n",
       "      <th>Control Cookies</th>\n",
       "      <th>Control Downloads</th>\n",
       "      <th>Control Licenses</th>\n",
       "      <th>Experiment Cookies</th>\n",
       "      <th>Experiment Downloads</th>\n",
       "      <th>Experiment Licenses</th>\n",
       "    </tr>\n",
       "  </thead>\n",
       "  <tbody>\n",
       "    <tr>\n",
       "      <th>0</th>\n",
       "      <td>1</td>\n",
       "      <td>1764</td>\n",
       "      <td>246</td>\n",
       "      <td>1</td>\n",
       "      <td>1850</td>\n",
       "      <td>339</td>\n",
       "      <td>3</td>\n",
       "    </tr>\n",
       "    <tr>\n",
       "      <th>1</th>\n",
       "      <td>2</td>\n",
       "      <td>1541</td>\n",
       "      <td>234</td>\n",
       "      <td>2</td>\n",
       "      <td>1590</td>\n",
       "      <td>281</td>\n",
       "      <td>2</td>\n",
       "    </tr>\n",
       "    <tr>\n",
       "      <th>2</th>\n",
       "      <td>3</td>\n",
       "      <td>1457</td>\n",
       "      <td>240</td>\n",
       "      <td>1</td>\n",
       "      <td>1515</td>\n",
       "      <td>274</td>\n",
       "      <td>1</td>\n",
       "    </tr>\n",
       "    <tr>\n",
       "      <th>3</th>\n",
       "      <td>4</td>\n",
       "      <td>1587</td>\n",
       "      <td>224</td>\n",
       "      <td>1</td>\n",
       "      <td>1541</td>\n",
       "      <td>284</td>\n",
       "      <td>2</td>\n",
       "    </tr>\n",
       "    <tr>\n",
       "      <th>4</th>\n",
       "      <td>5</td>\n",
       "      <td>1606</td>\n",
       "      <td>253</td>\n",
       "      <td>2</td>\n",
       "      <td>1643</td>\n",
       "      <td>292</td>\n",
       "      <td>3</td>\n",
       "    </tr>\n",
       "  </tbody>\n",
       "</table>\n",
       "</div>"
      ],
      "text/plain": [
       "   Day  Control Cookies  Control Downloads  Control Licenses  \\\n",
       "0    1             1764                246                 1   \n",
       "1    2             1541                234                 2   \n",
       "2    3             1457                240                 1   \n",
       "3    4             1587                224                 1   \n",
       "4    5             1606                253                 2   \n",
       "\n",
       "   Experiment Cookies  Experiment Downloads  Experiment Licenses  \n",
       "0                1850                   339                    3  \n",
       "1                1590                   281                    2  \n",
       "2                1515                   274                    1  \n",
       "3                1541                   284                    2  \n",
       "4                1643                   292                    3  "
      ]
     },
     "execution_count": 1,
     "metadata": {},
     "output_type": "execute_result"
    }
   ],
   "source": [
    "# 导入相应的包\n",
    "import pandas as pd \n",
    "import numpy as np \n",
    "import scipy.stats as stats\n",
    "\n",
    "# 读取数据\n",
    "data = pd.read_csv('homepage-experiment-data.csv')\n",
    "\n",
    "# 数据大小\n",
    "print('数据大小：', data.shape)\n",
    "\n",
    "# 查看数据\n",
    "data.head(5)"
   ]
  },
  {
   "cell_type": "markdown",
   "metadata": {},
   "source": [
    "数据大小29行7列，每列的意义：\n",
    "- Day                  : 实验的天数\n",
    "- Control Cookies      ：对照组的cookie数量\n",
    "- Control Downloads    ：对照组的下载量\n",
    "- Control Licenses     ：对照组的购买量\n",
    "- Experiment Cookies   ：实验组的cookie数量\n",
    "- Experiment Downloads ：实验组的下载量\n",
    "- Experiment Licenses  ：实验组的购买量"
   ]
  },
  {
   "cell_type": "code",
   "execution_count": 2,
   "metadata": {
    "ExecuteTime": {
     "end_time": "2020-02-17T00:11:35.481085Z",
     "start_time": "2020-02-17T00:11:35.442192Z"
    }
   },
   "outputs": [
    {
     "data": {
      "text/html": [
       "<div>\n",
       "<style scoped>\n",
       "    .dataframe tbody tr th:only-of-type {\n",
       "        vertical-align: middle;\n",
       "    }\n",
       "\n",
       "    .dataframe tbody tr th {\n",
       "        vertical-align: top;\n",
       "    }\n",
       "\n",
       "    .dataframe thead th {\n",
       "        text-align: right;\n",
       "    }\n",
       "</style>\n",
       "<table border=\"1\" class=\"dataframe\">\n",
       "  <thead>\n",
       "    <tr style=\"text-align: right;\">\n",
       "      <th></th>\n",
       "      <th>Day</th>\n",
       "      <th>Control Cookies</th>\n",
       "      <th>Control Downloads</th>\n",
       "      <th>Control Licenses</th>\n",
       "      <th>Experiment Cookies</th>\n",
       "      <th>Experiment Downloads</th>\n",
       "      <th>Experiment Licenses</th>\n",
       "    </tr>\n",
       "  </thead>\n",
       "  <tbody>\n",
       "    <tr>\n",
       "      <th>count</th>\n",
       "      <td>29.000000</td>\n",
       "      <td>29.000000</td>\n",
       "      <td>29.000000</td>\n",
       "      <td>29.000000</td>\n",
       "      <td>29.00000</td>\n",
       "      <td>29.000000</td>\n",
       "      <td>29.000000</td>\n",
       "    </tr>\n",
       "    <tr>\n",
       "      <th>mean</th>\n",
       "      <td>15.000000</td>\n",
       "      <td>1615.551724</td>\n",
       "      <td>260.482759</td>\n",
       "      <td>24.482759</td>\n",
       "      <td>1632.62069</td>\n",
       "      <td>294.758621</td>\n",
       "      <td>25.241379</td>\n",
       "    </tr>\n",
       "    <tr>\n",
       "      <th>std</th>\n",
       "      <td>8.514693</td>\n",
       "      <td>116.308268</td>\n",
       "      <td>28.338037</td>\n",
       "      <td>13.873461</td>\n",
       "      <td>113.02636</td>\n",
       "      <td>22.404807</td>\n",
       "      <td>13.762410</td>\n",
       "    </tr>\n",
       "    <tr>\n",
       "      <th>min</th>\n",
       "      <td>1.000000</td>\n",
       "      <td>1457.000000</td>\n",
       "      <td>223.000000</td>\n",
       "      <td>1.000000</td>\n",
       "      <td>1458.00000</td>\n",
       "      <td>256.000000</td>\n",
       "      <td>1.000000</td>\n",
       "    </tr>\n",
       "    <tr>\n",
       "      <th>25%</th>\n",
       "      <td>8.000000</td>\n",
       "      <td>1529.000000</td>\n",
       "      <td>240.000000</td>\n",
       "      <td>12.000000</td>\n",
       "      <td>1555.00000</td>\n",
       "      <td>279.000000</td>\n",
       "      <td>20.000000</td>\n",
       "    </tr>\n",
       "    <tr>\n",
       "      <th>50%</th>\n",
       "      <td>15.000000</td>\n",
       "      <td>1602.000000</td>\n",
       "      <td>254.000000</td>\n",
       "      <td>30.000000</td>\n",
       "      <td>1606.00000</td>\n",
       "      <td>290.000000</td>\n",
       "      <td>29.000000</td>\n",
       "    </tr>\n",
       "    <tr>\n",
       "      <th>75%</th>\n",
       "      <td>22.000000</td>\n",
       "      <td>1700.000000</td>\n",
       "      <td>276.000000</td>\n",
       "      <td>34.000000</td>\n",
       "      <td>1728.00000</td>\n",
       "      <td>300.000000</td>\n",
       "      <td>36.000000</td>\n",
       "    </tr>\n",
       "    <tr>\n",
       "      <th>max</th>\n",
       "      <td>29.000000</td>\n",
       "      <td>1822.000000</td>\n",
       "      <td>331.000000</td>\n",
       "      <td>42.000000</td>\n",
       "      <td>1861.00000</td>\n",
       "      <td>349.000000</td>\n",
       "      <td>44.000000</td>\n",
       "    </tr>\n",
       "  </tbody>\n",
       "</table>\n",
       "</div>"
      ],
      "text/plain": [
       "             Day  Control Cookies  Control Downloads  Control Licenses  \\\n",
       "count  29.000000        29.000000          29.000000         29.000000   \n",
       "mean   15.000000      1615.551724         260.482759         24.482759   \n",
       "std     8.514693       116.308268          28.338037         13.873461   \n",
       "min     1.000000      1457.000000         223.000000          1.000000   \n",
       "25%     8.000000      1529.000000         240.000000         12.000000   \n",
       "50%    15.000000      1602.000000         254.000000         30.000000   \n",
       "75%    22.000000      1700.000000         276.000000         34.000000   \n",
       "max    29.000000      1822.000000         331.000000         42.000000   \n",
       "\n",
       "       Experiment Cookies  Experiment Downloads  Experiment Licenses  \n",
       "count            29.00000             29.000000            29.000000  \n",
       "mean           1632.62069            294.758621            25.241379  \n",
       "std             113.02636             22.404807            13.762410  \n",
       "min            1458.00000            256.000000             1.000000  \n",
       "25%            1555.00000            279.000000            20.000000  \n",
       "50%            1606.00000            290.000000            29.000000  \n",
       "75%            1728.00000            300.000000            36.000000  \n",
       "max            1861.00000            349.000000            44.000000  "
      ]
     },
     "execution_count": 2,
     "metadata": {},
     "output_type": "execute_result"
    }
   ],
   "source": [
    "data.describe()"
   ]
  },
  {
   "cell_type": "markdown",
   "metadata": {},
   "source": [
    "## 2. 不变指标\n",
    "\n",
    "对照组和实验组的cookie数量是不变指标，需要考察显著性。"
   ]
  },
  {
   "cell_type": "markdown",
   "metadata": {},
   "source": [
    "### 2.1 符号检验"
   ]
  },
  {
   "cell_type": "code",
   "execution_count": 110,
   "metadata": {
    "ExecuteTime": {
     "end_time": "2020-02-18T02:04:26.998334Z",
     "start_time": "2020-02-18T02:04:26.990355Z"
    }
   },
   "outputs": [
    {
     "name": "stdout",
     "output_type": "stream",
     "text": [
      "符号检验p值: 0.28893\n"
     ]
    }
   ],
   "source": [
    "x = data['Control Cookies']\n",
    "y = data['Experiment Cookies']\n",
    "n = x.shape[0] - (x == y).sum()\n",
    "k = (x > y).sum() - (x == y).sum()\n",
    "p_value = 1 - 2 * stats.binom(n, 0.5).cdf(min(k, n - k))\n",
    "print('符号检验p值: {:.5f}'.format(p_value))"
   ]
  },
  {
   "cell_type": "markdown",
   "metadata": {
    "ExecuteTime": {
     "end_time": "2020-02-16T13:10:29.701372Z",
     "start_time": "2020-02-16T13:10:29.694393Z"
    }
   },
   "source": [
    "### 2.2 Z检验"
   ]
  },
  {
   "cell_type": "code",
   "execution_count": 112,
   "metadata": {
    "ExecuteTime": {
     "end_time": "2020-02-18T02:05:22.274879Z",
     "start_time": "2020-02-18T02:05:22.266932Z"
    }
   },
   "outputs": [
    {
     "name": "stdout",
     "output_type": "stream",
     "text": [
      "Z-score: -1.6161\n",
      "Z检验p-value: 0.1061\n"
     ]
    }
   ],
   "source": [
    "data_sum = data.sum(axis = 0)\n",
    "n_ctrl = data_sum['Control Cookies']\n",
    "n_exp = data_sum['Experiment Cookies']\n",
    "n_obs = n_ctrl + n_exp\n",
    "p = 0.5 \n",
    "sd = np.sqrt(n_obs * p * (1 - p))\n",
    "z = ((n_ctrl - 0.5) - n_obs * p) / sd\n",
    "print('Z-score: {:.4f}'.format(z))\n",
    "p_value = 2 * stats.norm.cdf(z)\n",
    "print('Z检验p-value: {:.4f}'.format(p_value))"
   ]
  },
  {
   "cell_type": "markdown",
   "metadata": {},
   "source": [
    "# 3. 评估指标\n",
    "\n",
    "评估指标分为下载量和许可证购买量这两个方面，分别考察的指标是：\n",
    "- 下载率：下载量/Cookie数量\n",
    "- 购买率：购买量/Cookie数量"
   ]
  },
  {
   "cell_type": "markdown",
   "metadata": {},
   "source": [
    "## 3.1 下载率\n",
    "首先，计算获得下载率数据，然后采用多种检验方法进行检"
   ]
  },
  {
   "cell_type": "code",
   "execution_count": 104,
   "metadata": {
    "ExecuteTime": {
     "end_time": "2020-02-18T01:57:33.942184Z",
     "start_time": "2020-02-18T01:57:33.935231Z"
    }
   },
   "outputs": [],
   "source": [
    "# 每日的下载率数据\n",
    "drate_ctrl = data['Control Downloads'] / data['Control Cookies']\n",
    "drate_expr = data['Experiment Downloads'] / data['Experiment Cookies']\n",
    "\n",
    "# 下载率\n",
    "dload_ctrl = data['Control Downloads'].sum()\n",
    "n_ctrl = data['Control Cookies'].sum()\n",
    "dload_expr = data['Experiment Downloads'].sum()\n",
    "n_expr = data['Experiment Cookies'].sum()\n",
    "n_obs = n_ctrl + n_expr\n",
    "p_ctrl = dload_ctrl / n_ctrl\n",
    "p_expr = dload_expr / n_expr\n",
    "p_null = (dload_ctrl + dload_expr) / (n_ctrl + n_expr)"
   ]
  },
  {
   "cell_type": "markdown",
   "metadata": {},
   "source": [
    "### 3.1.1 符号检验"
   ]
  },
  {
   "cell_type": "code",
   "execution_count": 105,
   "metadata": {
    "ExecuteTime": {
     "end_time": "2020-02-18T01:57:34.775893Z",
     "start_time": "2020-02-18T01:57:34.766928Z"
    }
   },
   "outputs": [
    {
     "name": "stdout",
     "output_type": "stream",
     "text": [
      "符号检验p值: 0.00000762\n"
     ]
    }
   ],
   "source": [
    "# 采用符号检验计算p-value\n",
    "n = drate_ctrl.shape[0] - (drate_ctrl == drate_expr).sum()\n",
    "k = (drate_ctrl > drate_expr).sum() - (drate_ctrl == drate_expr).sum()\n",
    "p_value = stats.binom(n, 0.5).cdf(k)\n",
    "print('符号检验p值: {:.8f}'.format(p_value))"
   ]
  },
  {
   "cell_type": "markdown",
   "metadata": {},
   "source": [
    "### 3.1.2 Z检验"
   ]
  },
  {
   "cell_type": "code",
   "execution_count": 106,
   "metadata": {
    "ExecuteTime": {
     "end_time": "2020-02-18T01:57:35.876271Z",
     "start_time": "2020-02-18T01:57:35.870289Z"
    }
   },
   "outputs": [
    {
     "name": "stdout",
     "output_type": "stream",
     "text": [
      "Z-score: 7.88\n",
      "Z检验p-value: 1.6653345369377348e-15\n"
     ]
    }
   ],
   "source": [
    "# 采用z检验计算p-value\n",
    "# 计算检验统计量的均值和方差\n",
    "z_sd = np.sqrt(p_ctrl * (1 - p_ctrl) / n_ctrl + p_expr * (1 - p_expr) / n_expr)\n",
    "z = (p_expr - p_ctrl) / z_sd\n",
    "print('Z-score: {:.2f}'.format(z))\n",
    "p_value = 1 - stats.norm.cdf(z)\n",
    "print('Z检验p-value: {}'.format(p_value))"
   ]
  },
  {
   "cell_type": "markdown",
   "metadata": {},
   "source": [
    "## 3.2 购买率\n",
    "\n",
    "可以采用符号检验和Z参数检验方法，对购买率进行检验。"
   ]
  },
  {
   "cell_type": "markdown",
   "metadata": {},
   "source": [
    "### 3.2.1 符号检验"
   ]
  },
  {
   "cell_type": "code",
   "execution_count": 109,
   "metadata": {
    "ExecuteTime": {
     "end_time": "2020-02-18T02:03:37.345908Z",
     "start_time": "2020-02-18T02:03:37.338926Z"
    }
   },
   "outputs": [
    {
     "name": "stdout",
     "output_type": "stream",
     "text": [
      "符号检验p值: 0.66818810\n"
     ]
    }
   ],
   "source": [
    "# 截取第9天及以后的数据进行分析\n",
    "data_lic = data[8:]\n",
    "# 每日的购买率数据\n",
    "lic_ctrl = data_lic['Control Licenses'] / data_lic['Control Cookies']\n",
    "lic_expr = data_lic['Experiment Licenses'] / data_lic['Experiment Cookies']\n",
    "# 采用符号检验计算p-value\n",
    "n = lic_ctrl.shape[0] - (lic_ctrl == lic_expr).sum()\n",
    "k = (lic_ctrl > lic_expr).sum() - (lic_ctrl == lic_expr).sum()\n",
    "p_value = stats.binom(n, 0.5).cdf(k)\n",
    "print('符号检验p值: {:.8f}'.format(p_value))"
   ]
  },
  {
   "cell_type": "markdown",
   "metadata": {},
   "source": [
    "### 3.2.2 Z检验"
   ]
  },
  {
   "cell_type": "code",
   "execution_count": 93,
   "metadata": {
    "ExecuteTime": {
     "end_time": "2020-02-18T01:38:48.364768Z",
     "start_time": "2020-02-18T01:38:48.358820Z"
    }
   },
   "outputs": [],
   "source": [
    "# 截取第9天及以后的数据进行分析\n",
    "data_lic = data[8:]\n",
    "data_cookie = data[:-8]\n",
    "# 计算对照组和实验组的总数量\n",
    "n_ctrl = data_cookie['Control Cookies'].sum()\n",
    "n_expr = data_cookie['Experiment Cookies'].sum()\n",
    "# 计算对照组和实验组的总购买率\n",
    "plic_ctrl = data['Control Licenses'].sum() / n_ctrl\n",
    "plic_expr = data['Experiment Licenses'].sum() / n_expr"
   ]
  },
  {
   "cell_type": "code",
   "execution_count": 94,
   "metadata": {
    "ExecuteTime": {
     "end_time": "2020-02-18T01:38:49.593458Z",
     "start_time": "2020-02-18T01:38:49.585480Z"
    }
   },
   "outputs": [
    {
     "name": "stdout",
     "output_type": "stream",
     "text": [
      "Z-score: 0.2587\n",
      "Z检验p-value: 0.3979\n"
     ]
    }
   ],
   "source": [
    "# Z参数检验\n",
    "sd = np.sqrt(plic_ctrl * (1 - plic_ctrl) / n_ctrl + plic_expr * (1 - plic_expr) / n_expr)\n",
    "z = (plic_expr - plic_ctrl) / sd\n",
    "print('Z-score: {:.4f}'.format(z))\n",
    "p_value = 1 - stats.norm.cdf(z)\n",
    "print('Z检验p-value: {:.4f}'.format(p_value))"
   ]
  }
 ],
 "metadata": {
  "kernelspec": {
   "display_name": "Python 3.6.9 64-bit ('py3': conda)",
   "language": "python",
   "name": "python36964bitpy3conda52cff524d83640ca804671987b398081"
  },
  "language_info": {
   "codemirror_mode": {
    "name": "ipython",
    "version": 3
   },
   "file_extension": ".py",
   "mimetype": "text/x-python",
   "name": "python",
   "nbconvert_exporter": "python",
   "pygments_lexer": "ipython3",
   "version": "3.6.9"
  }
 },
 "nbformat": 4,
 "nbformat_minor": 2
}
